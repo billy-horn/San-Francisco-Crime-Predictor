{
 "cells": [
  {
   "cell_type": "code",
   "execution_count": 4,
   "metadata": {},
   "outputs": [],
   "source": [
    "# pip install geopandas"
   ]
  },
  {
   "cell_type": "code",
   "execution_count": 5,
   "metadata": {},
   "outputs": [],
   "source": [
    "# pip install folium"
   ]
  },
  {
   "cell_type": "code",
   "execution_count": 6,
   "metadata": {},
   "outputs": [],
   "source": [
    "import pandas as pd\n",
    "import geopandas as gpd\n",
    "import numpy as np\n",
    "import matplotlib.pyplot as plt\n",
    "import seaborn as sns\n",
    "import folium\n",
    "from shapely.geometry import Point\n",
    "from shapely.geometry.polygon import Polygon\n",
    "from shapely import wkt\n",
    "from sklearn.model_selection import train_test_split, GridSearchCV\n",
    "from sklearn.preprocessing import LabelEncoder\n",
    "from sklearn.pipeline import Pipeline\n",
    "from transformers import pipeline\n",
    "from sklearn.metrics import confusion_matrix\n",
    "from sklearn.preprocessing import StandardScaler\n",
    "from sklearn.linear_model import LogisticRegression\n",
    "from sklearn.neighbors import KNeighborsClassifier\n",
    "from sklearn.ensemble import RandomForestClassifier, ExtraTreesClassifier\n",
    "from sklearn.ensemble import BaggingClassifier, AdaBoostClassifier\n",
    "from sklearn.svm import SVC\n",
    "from xgboost import XGBClassifier"
   ]
  },
  {
   "cell_type": "markdown",
   "metadata": {},
   "source": [
    "## Data Load/Clean"
   ]
  },
  {
   "cell_type": "code",
   "execution_count": 7,
   "metadata": {},
   "outputs": [
    {
     "data": {
      "text/html": [
       "<div>\n",
       "<style scoped>\n",
       "    .dataframe tbody tr th:only-of-type {\n",
       "        vertical-align: middle;\n",
       "    }\n",
       "\n",
       "    .dataframe tbody tr th {\n",
       "        vertical-align: top;\n",
       "    }\n",
       "\n",
       "    .dataframe thead th {\n",
       "        text-align: right;\n",
       "    }\n",
       "</style>\n",
       "<table border=\"1\" class=\"dataframe\">\n",
       "  <thead>\n",
       "    <tr style=\"text-align: right;\">\n",
       "      <th></th>\n",
       "      <th>PdId</th>\n",
       "      <th>IncidntNum</th>\n",
       "      <th>Incident Code</th>\n",
       "      <th>Category</th>\n",
       "      <th>Descript</th>\n",
       "      <th>DayOfWeek</th>\n",
       "      <th>Date</th>\n",
       "      <th>Time</th>\n",
       "      <th>PdDistrict</th>\n",
       "      <th>Resolution</th>\n",
       "      <th>Address</th>\n",
       "      <th>X</th>\n",
       "      <th>Y</th>\n",
       "      <th>location</th>\n",
       "    </tr>\n",
       "  </thead>\n",
       "  <tbody>\n",
       "    <tr>\n",
       "      <th>0</th>\n",
       "      <td>16072741510045</td>\n",
       "      <td>160727415</td>\n",
       "      <td>10045</td>\n",
       "      <td>EMBEZZLEMENT</td>\n",
       "      <td>EMBEZZLEMENT, GRAND THEFT BY EMPLOYEE</td>\n",
       "      <td>Friday</td>\n",
       "      <td>01/01/2016</td>\n",
       "      <td>00:01</td>\n",
       "      <td>INGLESIDE</td>\n",
       "      <td>NONE</td>\n",
       "      <td>5700 Block of MISSION ST</td>\n",
       "      <td>-122.450297</td>\n",
       "      <td>37.709552</td>\n",
       "      <td>POINT (-122.45029719777277 37.70955194084215)</td>\n",
       "    </tr>\n",
       "    <tr>\n",
       "      <th>1</th>\n",
       "      <td>16600299606372</td>\n",
       "      <td>166002996</td>\n",
       "      <td>6372</td>\n",
       "      <td>LARCENY/THEFT</td>\n",
       "      <td>PETTY THEFT OF PROPERTY</td>\n",
       "      <td>Friday</td>\n",
       "      <td>01/01/2016</td>\n",
       "      <td>13:40</td>\n",
       "      <td>CENTRAL</td>\n",
       "      <td>NONE</td>\n",
       "      <td>JEFFERSON ST / MASON ST</td>\n",
       "      <td>-122.414167</td>\n",
       "      <td>37.808420</td>\n",
       "      <td>POINT (-122.41416651509333 37.808419917270975)</td>\n",
       "    </tr>\n",
       "    <tr>\n",
       "      <th>2</th>\n",
       "      <td>17015398506304</td>\n",
       "      <td>170153985</td>\n",
       "      <td>6304</td>\n",
       "      <td>LARCENY/THEFT</td>\n",
       "      <td>GRAND THEFT FROM A BUILDING</td>\n",
       "      <td>Friday</td>\n",
       "      <td>01/01/2016</td>\n",
       "      <td>00:01</td>\n",
       "      <td>BAYVIEW</td>\n",
       "      <td>NONE</td>\n",
       "      <td>100 Block of APOLLO ST</td>\n",
       "      <td>-122.398745</td>\n",
       "      <td>37.730854</td>\n",
       "      <td>POINT (-122.3987447553861 37.730854021807374)</td>\n",
       "    </tr>\n",
       "    <tr>\n",
       "      <th>3</th>\n",
       "      <td>16063185010015</td>\n",
       "      <td>160631850</td>\n",
       "      <td>10015</td>\n",
       "      <td>EMBEZZLEMENT</td>\n",
       "      <td>EMBEZZLEMENT, GRAND THEFT</td>\n",
       "      <td>Friday</td>\n",
       "      <td>01/01/2016</td>\n",
       "      <td>12:00</td>\n",
       "      <td>BAYVIEW</td>\n",
       "      <td>NONE</td>\n",
       "      <td>4000 Block of 3RD ST</td>\n",
       "      <td>-122.388753</td>\n",
       "      <td>37.740736</td>\n",
       "      <td>POINT (-122.38875304699722 37.74073605483584)</td>\n",
       "    </tr>\n",
       "    <tr>\n",
       "      <th>4</th>\n",
       "      <td>16020260575030</td>\n",
       "      <td>160202605</td>\n",
       "      <td>75030</td>\n",
       "      <td>NON-CRIMINAL</td>\n",
       "      <td>CASE CLOSURE</td>\n",
       "      <td>Friday</td>\n",
       "      <td>01/01/2016</td>\n",
       "      <td>12:00</td>\n",
       "      <td>CENTRAL</td>\n",
       "      <td>UNFOUNDED</td>\n",
       "      <td>2700 Block of HYDE ST</td>\n",
       "      <td>-122.420535</td>\n",
       "      <td>37.806189</td>\n",
       "      <td>POINT (-122.4205346782714 37.8061892244521)</td>\n",
       "    </tr>\n",
       "  </tbody>\n",
       "</table>\n",
       "</div>"
      ],
      "text/plain": [
       "             PdId  IncidntNum  Incident Code       Category  \\\n",
       "0  16072741510045   160727415          10045   EMBEZZLEMENT   \n",
       "1  16600299606372   166002996           6372  LARCENY/THEFT   \n",
       "2  17015398506304   170153985           6304  LARCENY/THEFT   \n",
       "3  16063185010015   160631850          10015   EMBEZZLEMENT   \n",
       "4  16020260575030   160202605          75030   NON-CRIMINAL   \n",
       "\n",
       "                                Descript DayOfWeek        Date   Time  \\\n",
       "0  EMBEZZLEMENT, GRAND THEFT BY EMPLOYEE    Friday  01/01/2016  00:01   \n",
       "1                PETTY THEFT OF PROPERTY    Friday  01/01/2016  13:40   \n",
       "2            GRAND THEFT FROM A BUILDING    Friday  01/01/2016  00:01   \n",
       "3              EMBEZZLEMENT, GRAND THEFT    Friday  01/01/2016  12:00   \n",
       "4                           CASE CLOSURE    Friday  01/01/2016  12:00   \n",
       "\n",
       "  PdDistrict Resolution                   Address           X          Y  \\\n",
       "0  INGLESIDE       NONE  5700 Block of MISSION ST -122.450297  37.709552   \n",
       "1    CENTRAL       NONE   JEFFERSON ST / MASON ST -122.414167  37.808420   \n",
       "2    BAYVIEW       NONE    100 Block of APOLLO ST -122.398745  37.730854   \n",
       "3    BAYVIEW       NONE      4000 Block of 3RD ST -122.388753  37.740736   \n",
       "4    CENTRAL  UNFOUNDED     2700 Block of HYDE ST -122.420535  37.806189   \n",
       "\n",
       "                                         location  \n",
       "0   POINT (-122.45029719777277 37.70955194084215)  \n",
       "1  POINT (-122.41416651509333 37.808419917270975)  \n",
       "2   POINT (-122.3987447553861 37.730854021807374)  \n",
       "3   POINT (-122.38875304699722 37.74073605483584)  \n",
       "4     POINT (-122.4205346782714 37.8061892244521)  "
      ]
     },
     "execution_count": 7,
     "metadata": {},
     "output_type": "execute_result"
    }
   ],
   "source": [
    "crime_df = pd.read_csv('data/Police_Department_Incident_Reports__Historical_2016_to_May_2018.csv')\n",
    "crime_df.head()"
   ]
  },
  {
   "cell_type": "code",
   "execution_count": 8,
   "metadata": {},
   "outputs": [],
   "source": [
    "crime_df['Date'] = pd.to_datetime(crime_df['Date'])"
   ]
  },
  {
   "cell_type": "code",
   "execution_count": 9,
   "metadata": {},
   "outputs": [
    {
     "data": {
      "text/plain": [
       "PdId                      int64\n",
       "IncidntNum                int64\n",
       "Incident Code             int64\n",
       "Category                 object\n",
       "Descript                 object\n",
       "DayOfWeek                object\n",
       "Date             datetime64[ns]\n",
       "Time                     object\n",
       "PdDistrict               object\n",
       "Resolution               object\n",
       "Address                  object\n",
       "X                       float64\n",
       "Y                       float64\n",
       "location                 object\n",
       "dtype: object"
      ]
     },
     "execution_count": 9,
     "metadata": {},
     "output_type": "execute_result"
    }
   ],
   "source": [
    "crime_df.dtypes"
   ]
  },
  {
   "cell_type": "code",
   "execution_count": 10,
   "metadata": {},
   "outputs": [],
   "source": [
    "crime_df = crime_df.drop(columns=['PdId', 'IncidntNum', 'Incident Code', 'Address', 'location'])"
   ]
  },
  {
   "cell_type": "code",
   "execution_count": 11,
   "metadata": {},
   "outputs": [
    {
     "data": {
      "text/plain": [
       "Index(['Category', 'Descript', 'DayOfWeek', 'Date', 'Time', 'PdDistrict',\n",
       "       'Resolution', 'X', 'Y'],\n",
       "      dtype='object')"
      ]
     },
     "execution_count": 11,
     "metadata": {},
     "output_type": "execute_result"
    }
   ],
   "source": [
    "crime_df.columns"
   ]
  },
  {
   "cell_type": "code",
   "execution_count": 12,
   "metadata": {},
   "outputs": [
    {
     "data": {
      "text/plain": [
       "(345979, 9)"
      ]
     },
     "execution_count": 12,
     "metadata": {},
     "output_type": "execute_result"
    }
   ],
   "source": [
    "crime_df.shape"
   ]
  },
  {
   "cell_type": "code",
   "execution_count": 13,
   "metadata": {},
   "outputs": [],
   "source": [
    "neighb_df = pd.read_csv('data/sf_neighbourhoods.csv')"
   ]
  },
  {
   "cell_type": "code",
   "execution_count": 14,
   "metadata": {},
   "outputs": [
    {
     "data": {
      "text/html": [
       "<div>\n",
       "<style scoped>\n",
       "    .dataframe tbody tr th:only-of-type {\n",
       "        vertical-align: middle;\n",
       "    }\n",
       "\n",
       "    .dataframe tbody tr th {\n",
       "        vertical-align: top;\n",
       "    }\n",
       "\n",
       "    .dataframe thead th {\n",
       "        text-align: right;\n",
       "    }\n",
       "</style>\n",
       "<table border=\"1\" class=\"dataframe\">\n",
       "  <thead>\n",
       "    <tr style=\"text-align: right;\">\n",
       "      <th></th>\n",
       "      <th>LINK</th>\n",
       "      <th>the_geom</th>\n",
       "      <th>name</th>\n",
       "    </tr>\n",
       "  </thead>\n",
       "  <tbody>\n",
       "    <tr>\n",
       "      <th>0</th>\n",
       "      <td>http://en.wikipedia.org/wiki/Sea_Cliff,_San_Fr...</td>\n",
       "      <td>MULTIPOLYGON (((-122.49345526799993 37.7835181...</td>\n",
       "      <td>Seacliff</td>\n",
       "    </tr>\n",
       "    <tr>\n",
       "      <th>1</th>\n",
       "      <td>NaN</td>\n",
       "      <td>MULTIPOLYGON (((-122.48715071499993 37.7837854...</td>\n",
       "      <td>Lake Street</td>\n",
       "    </tr>\n",
       "    <tr>\n",
       "      <th>2</th>\n",
       "      <td>http://www.nps.gov/prsf/index.htm</td>\n",
       "      <td>MULTIPOLYGON (((-122.47758017099994 37.8109931...</td>\n",
       "      <td>Presidio National Park</td>\n",
       "    </tr>\n",
       "    <tr>\n",
       "      <th>3</th>\n",
       "      <td>NaN</td>\n",
       "      <td>MULTIPOLYGON (((-122.47241052999993 37.7873465...</td>\n",
       "      <td>Presidio Terrace</td>\n",
       "    </tr>\n",
       "    <tr>\n",
       "      <th>4</th>\n",
       "      <td>http://www.sfgate.com/neighborhoods/sf/innerri...</td>\n",
       "      <td>MULTIPOLYGON (((-122.47262578999994 37.7863148...</td>\n",
       "      <td>Inner Richmond</td>\n",
       "    </tr>\n",
       "  </tbody>\n",
       "</table>\n",
       "</div>"
      ],
      "text/plain": [
       "                                                LINK  \\\n",
       "0  http://en.wikipedia.org/wiki/Sea_Cliff,_San_Fr...   \n",
       "1                                                NaN   \n",
       "2                  http://www.nps.gov/prsf/index.htm   \n",
       "3                                                NaN   \n",
       "4  http://www.sfgate.com/neighborhoods/sf/innerri...   \n",
       "\n",
       "                                            the_geom                    name  \n",
       "0  MULTIPOLYGON (((-122.49345526799993 37.7835181...                Seacliff  \n",
       "1  MULTIPOLYGON (((-122.48715071499993 37.7837854...             Lake Street  \n",
       "2  MULTIPOLYGON (((-122.47758017099994 37.8109931...  Presidio National Park  \n",
       "3  MULTIPOLYGON (((-122.47241052999993 37.7873465...        Presidio Terrace  \n",
       "4  MULTIPOLYGON (((-122.47262578999994 37.7863148...          Inner Richmond  "
      ]
     },
     "execution_count": 14,
     "metadata": {},
     "output_type": "execute_result"
    }
   ],
   "source": [
    "neighb_df.head()"
   ]
  },
  {
   "cell_type": "code",
   "execution_count": 15,
   "metadata": {},
   "outputs": [
    {
     "data": {
      "text/plain": [
       "(117, 3)"
      ]
     },
     "execution_count": 15,
     "metadata": {},
     "output_type": "execute_result"
    }
   ],
   "source": [
    "neighb_df.shape"
   ]
  },
  {
   "cell_type": "markdown",
   "metadata": {},
   "source": [
    "### Geo Coordinates Classification"
   ]
  },
  {
   "cell_type": "code",
   "execution_count": 16,
   "metadata": {},
   "outputs": [
    {
     "data": {
      "text/html": [
       "<div>\n",
       "<style scoped>\n",
       "    .dataframe tbody tr th:only-of-type {\n",
       "        vertical-align: middle;\n",
       "    }\n",
       "\n",
       "    .dataframe tbody tr th {\n",
       "        vertical-align: top;\n",
       "    }\n",
       "\n",
       "    .dataframe thead th {\n",
       "        text-align: right;\n",
       "    }\n",
       "</style>\n",
       "<table border=\"1\" class=\"dataframe\">\n",
       "  <thead>\n",
       "    <tr style=\"text-align: right;\">\n",
       "      <th></th>\n",
       "      <th>Category</th>\n",
       "      <th>Descript</th>\n",
       "      <th>DayOfWeek</th>\n",
       "      <th>Date</th>\n",
       "      <th>Time</th>\n",
       "      <th>PdDistrict</th>\n",
       "      <th>Resolution</th>\n",
       "      <th>X</th>\n",
       "      <th>Y</th>\n",
       "      <th>geometry</th>\n",
       "    </tr>\n",
       "  </thead>\n",
       "  <tbody>\n",
       "    <tr>\n",
       "      <th>0</th>\n",
       "      <td>EMBEZZLEMENT</td>\n",
       "      <td>EMBEZZLEMENT, GRAND THEFT BY EMPLOYEE</td>\n",
       "      <td>Friday</td>\n",
       "      <td>2016-01-01</td>\n",
       "      <td>00:01</td>\n",
       "      <td>INGLESIDE</td>\n",
       "      <td>NONE</td>\n",
       "      <td>-122.450297</td>\n",
       "      <td>37.709552</td>\n",
       "      <td>POINT (-122.45030 37.70955)</td>\n",
       "    </tr>\n",
       "    <tr>\n",
       "      <th>1</th>\n",
       "      <td>LARCENY/THEFT</td>\n",
       "      <td>PETTY THEFT OF PROPERTY</td>\n",
       "      <td>Friday</td>\n",
       "      <td>2016-01-01</td>\n",
       "      <td>13:40</td>\n",
       "      <td>CENTRAL</td>\n",
       "      <td>NONE</td>\n",
       "      <td>-122.414167</td>\n",
       "      <td>37.808420</td>\n",
       "      <td>POINT (-122.41417 37.80842)</td>\n",
       "    </tr>\n",
       "    <tr>\n",
       "      <th>2</th>\n",
       "      <td>LARCENY/THEFT</td>\n",
       "      <td>GRAND THEFT FROM A BUILDING</td>\n",
       "      <td>Friday</td>\n",
       "      <td>2016-01-01</td>\n",
       "      <td>00:01</td>\n",
       "      <td>BAYVIEW</td>\n",
       "      <td>NONE</td>\n",
       "      <td>-122.398745</td>\n",
       "      <td>37.730854</td>\n",
       "      <td>POINT (-122.39874 37.73085)</td>\n",
       "    </tr>\n",
       "    <tr>\n",
       "      <th>3</th>\n",
       "      <td>EMBEZZLEMENT</td>\n",
       "      <td>EMBEZZLEMENT, GRAND THEFT</td>\n",
       "      <td>Friday</td>\n",
       "      <td>2016-01-01</td>\n",
       "      <td>12:00</td>\n",
       "      <td>BAYVIEW</td>\n",
       "      <td>NONE</td>\n",
       "      <td>-122.388753</td>\n",
       "      <td>37.740736</td>\n",
       "      <td>POINT (-122.38875 37.74074)</td>\n",
       "    </tr>\n",
       "    <tr>\n",
       "      <th>4</th>\n",
       "      <td>NON-CRIMINAL</td>\n",
       "      <td>CASE CLOSURE</td>\n",
       "      <td>Friday</td>\n",
       "      <td>2016-01-01</td>\n",
       "      <td>12:00</td>\n",
       "      <td>CENTRAL</td>\n",
       "      <td>UNFOUNDED</td>\n",
       "      <td>-122.420535</td>\n",
       "      <td>37.806189</td>\n",
       "      <td>POINT (-122.42053 37.80619)</td>\n",
       "    </tr>\n",
       "  </tbody>\n",
       "</table>\n",
       "</div>"
      ],
      "text/plain": [
       "        Category                               Descript DayOfWeek       Date  \\\n",
       "0   EMBEZZLEMENT  EMBEZZLEMENT, GRAND THEFT BY EMPLOYEE    Friday 2016-01-01   \n",
       "1  LARCENY/THEFT                PETTY THEFT OF PROPERTY    Friday 2016-01-01   \n",
       "2  LARCENY/THEFT            GRAND THEFT FROM A BUILDING    Friday 2016-01-01   \n",
       "3   EMBEZZLEMENT              EMBEZZLEMENT, GRAND THEFT    Friday 2016-01-01   \n",
       "4   NON-CRIMINAL                           CASE CLOSURE    Friday 2016-01-01   \n",
       "\n",
       "    Time PdDistrict Resolution           X          Y  \\\n",
       "0  00:01  INGLESIDE       NONE -122.450297  37.709552   \n",
       "1  13:40    CENTRAL       NONE -122.414167  37.808420   \n",
       "2  00:01    BAYVIEW       NONE -122.398745  37.730854   \n",
       "3  12:00    BAYVIEW       NONE -122.388753  37.740736   \n",
       "4  12:00    CENTRAL  UNFOUNDED -122.420535  37.806189   \n",
       "\n",
       "                      geometry  \n",
       "0  POINT (-122.45030 37.70955)  \n",
       "1  POINT (-122.41417 37.80842)  \n",
       "2  POINT (-122.39874 37.73085)  \n",
       "3  POINT (-122.38875 37.74074)  \n",
       "4  POINT (-122.42053 37.80619)  "
      ]
     },
     "execution_count": 16,
     "metadata": {},
     "output_type": "execute_result"
    }
   ],
   "source": [
    "geom = [Point(xy) for xy in zip(crime_df['X'], crime_df['Y'])]\n",
    "crime_geo = gpd.GeoDataFrame(crime_df, geometry=geom)\n",
    "crime_geo.head()"
   ]
  },
  {
   "cell_type": "code",
   "execution_count": 17,
   "metadata": {},
   "outputs": [
    {
     "data": {
      "text/html": [
       "<div>\n",
       "<style scoped>\n",
       "    .dataframe tbody tr th:only-of-type {\n",
       "        vertical-align: middle;\n",
       "    }\n",
       "\n",
       "    .dataframe tbody tr th {\n",
       "        vertical-align: top;\n",
       "    }\n",
       "\n",
       "    .dataframe thead th {\n",
       "        text-align: right;\n",
       "    }\n",
       "</style>\n",
       "<table border=\"1\" class=\"dataframe\">\n",
       "  <thead>\n",
       "    <tr style=\"text-align: right;\">\n",
       "      <th></th>\n",
       "      <th>LINK</th>\n",
       "      <th>the_geom</th>\n",
       "      <th>name</th>\n",
       "      <th>geometry</th>\n",
       "    </tr>\n",
       "  </thead>\n",
       "  <tbody>\n",
       "    <tr>\n",
       "      <th>0</th>\n",
       "      <td>http://en.wikipedia.org/wiki/Sea_Cliff,_San_Fr...</td>\n",
       "      <td>MULTIPOLYGON (((-122.49345526799993 37.7835181...</td>\n",
       "      <td>Seacliff</td>\n",
       "      <td>MULTIPOLYGON (((-122.49346 37.78352, -122.4937...</td>\n",
       "    </tr>\n",
       "    <tr>\n",
       "      <th>1</th>\n",
       "      <td>NaN</td>\n",
       "      <td>MULTIPOLYGON (((-122.48715071499993 37.7837854...</td>\n",
       "      <td>Lake Street</td>\n",
       "      <td>MULTIPOLYGON (((-122.48715 37.78379, -122.4872...</td>\n",
       "    </tr>\n",
       "    <tr>\n",
       "      <th>2</th>\n",
       "      <td>http://www.nps.gov/prsf/index.htm</td>\n",
       "      <td>MULTIPOLYGON (((-122.47758017099994 37.8109931...</td>\n",
       "      <td>Presidio National Park</td>\n",
       "      <td>MULTIPOLYGON (((-122.47758 37.81099, -122.4771...</td>\n",
       "    </tr>\n",
       "    <tr>\n",
       "      <th>3</th>\n",
       "      <td>NaN</td>\n",
       "      <td>MULTIPOLYGON (((-122.47241052999993 37.7873465...</td>\n",
       "      <td>Presidio Terrace</td>\n",
       "      <td>MULTIPOLYGON (((-122.47241 37.78735, -122.4710...</td>\n",
       "    </tr>\n",
       "    <tr>\n",
       "      <th>4</th>\n",
       "      <td>http://www.sfgate.com/neighborhoods/sf/innerri...</td>\n",
       "      <td>MULTIPOLYGON (((-122.47262578999994 37.7863148...</td>\n",
       "      <td>Inner Richmond</td>\n",
       "      <td>MULTIPOLYGON (((-122.47263 37.78631, -122.4668...</td>\n",
       "    </tr>\n",
       "  </tbody>\n",
       "</table>\n",
       "</div>"
      ],
      "text/plain": [
       "                                                LINK  \\\n",
       "0  http://en.wikipedia.org/wiki/Sea_Cliff,_San_Fr...   \n",
       "1                                                NaN   \n",
       "2                  http://www.nps.gov/prsf/index.htm   \n",
       "3                                                NaN   \n",
       "4  http://www.sfgate.com/neighborhoods/sf/innerri...   \n",
       "\n",
       "                                            the_geom                    name  \\\n",
       "0  MULTIPOLYGON (((-122.49345526799993 37.7835181...                Seacliff   \n",
       "1  MULTIPOLYGON (((-122.48715071499993 37.7837854...             Lake Street   \n",
       "2  MULTIPOLYGON (((-122.47758017099994 37.8109931...  Presidio National Park   \n",
       "3  MULTIPOLYGON (((-122.47241052999993 37.7873465...        Presidio Terrace   \n",
       "4  MULTIPOLYGON (((-122.47262578999994 37.7863148...          Inner Richmond   \n",
       "\n",
       "                                            geometry  \n",
       "0  MULTIPOLYGON (((-122.49346 37.78352, -122.4937...  \n",
       "1  MULTIPOLYGON (((-122.48715 37.78379, -122.4872...  \n",
       "2  MULTIPOLYGON (((-122.47758 37.81099, -122.4771...  \n",
       "3  MULTIPOLYGON (((-122.47241 37.78735, -122.4710...  \n",
       "4  MULTIPOLYGON (((-122.47263 37.78631, -122.4668...  "
      ]
     },
     "execution_count": 17,
     "metadata": {},
     "output_type": "execute_result"
    }
   ],
   "source": [
    "neighb_df['geometry'] = neighb_df['the_geom'].apply(wkt.loads)\n",
    "neighb_geo = gpd.GeoDataFrame(neighb_df)\n",
    "neighb_geo.head()"
   ]
  },
  {
   "cell_type": "code",
   "execution_count": 18,
   "metadata": {},
   "outputs": [],
   "source": [
    "crime_geo['neighbourhood'] = None"
   ]
  },
  {
   "cell_type": "code",
   "execution_count": 19,
   "metadata": {},
   "outputs": [
    {
     "data": {
      "text/html": [
       "<div>\n",
       "<style scoped>\n",
       "    .dataframe tbody tr th:only-of-type {\n",
       "        vertical-align: middle;\n",
       "    }\n",
       "\n",
       "    .dataframe tbody tr th {\n",
       "        vertical-align: top;\n",
       "    }\n",
       "\n",
       "    .dataframe thead th {\n",
       "        text-align: right;\n",
       "    }\n",
       "</style>\n",
       "<table border=\"1\" class=\"dataframe\">\n",
       "  <thead>\n",
       "    <tr style=\"text-align: right;\">\n",
       "      <th></th>\n",
       "      <th>Category</th>\n",
       "      <th>Descript</th>\n",
       "      <th>DayOfWeek</th>\n",
       "      <th>Date</th>\n",
       "      <th>Time</th>\n",
       "      <th>PdDistrict</th>\n",
       "      <th>Resolution</th>\n",
       "      <th>X</th>\n",
       "      <th>Y</th>\n",
       "      <th>geometry</th>\n",
       "      <th>neighbourhood</th>\n",
       "    </tr>\n",
       "  </thead>\n",
       "  <tbody>\n",
       "    <tr>\n",
       "      <th>0</th>\n",
       "      <td>EMBEZZLEMENT</td>\n",
       "      <td>EMBEZZLEMENT, GRAND THEFT BY EMPLOYEE</td>\n",
       "      <td>Friday</td>\n",
       "      <td>2016-01-01</td>\n",
       "      <td>00:01</td>\n",
       "      <td>INGLESIDE</td>\n",
       "      <td>NONE</td>\n",
       "      <td>-122.450297</td>\n",
       "      <td>37.709552</td>\n",
       "      <td>POINT (-122.45030 37.70955)</td>\n",
       "      <td>None</td>\n",
       "    </tr>\n",
       "    <tr>\n",
       "      <th>1</th>\n",
       "      <td>LARCENY/THEFT</td>\n",
       "      <td>PETTY THEFT OF PROPERTY</td>\n",
       "      <td>Friday</td>\n",
       "      <td>2016-01-01</td>\n",
       "      <td>13:40</td>\n",
       "      <td>CENTRAL</td>\n",
       "      <td>NONE</td>\n",
       "      <td>-122.414167</td>\n",
       "      <td>37.808420</td>\n",
       "      <td>POINT (-122.41417 37.80842)</td>\n",
       "      <td>None</td>\n",
       "    </tr>\n",
       "  </tbody>\n",
       "</table>\n",
       "</div>"
      ],
      "text/plain": [
       "        Category                               Descript DayOfWeek       Date  \\\n",
       "0   EMBEZZLEMENT  EMBEZZLEMENT, GRAND THEFT BY EMPLOYEE    Friday 2016-01-01   \n",
       "1  LARCENY/THEFT                PETTY THEFT OF PROPERTY    Friday 2016-01-01   \n",
       "\n",
       "    Time PdDistrict Resolution           X          Y  \\\n",
       "0  00:01  INGLESIDE       NONE -122.450297  37.709552   \n",
       "1  13:40    CENTRAL       NONE -122.414167  37.808420   \n",
       "\n",
       "                      geometry neighbourhood  \n",
       "0  POINT (-122.45030 37.70955)          None  \n",
       "1  POINT (-122.41417 37.80842)          None  "
      ]
     },
     "execution_count": 19,
     "metadata": {},
     "output_type": "execute_result"
    }
   ],
   "source": [
    "crime_geo.head(2)"
   ]
  },
  {
   "cell_type": "code",
   "execution_count": 20,
   "metadata": {},
   "outputs": [],
   "source": [
    "crime_geo.loc[crime_geo.intersects(neighb_geo.loc[0, 'geometry']), 'neighbourhood'] = neighb_geo['name'].loc[0]"
   ]
  },
  {
   "cell_type": "code",
   "execution_count": 21,
   "metadata": {},
   "outputs": [
    {
     "name": "stdout",
     "output_type": "stream",
     "text": [
      "CPU times: user 4min 17s, sys: 5.72 s, total: 4min 22s\n",
      "Wall time: 6min 17s\n"
     ]
    }
   ],
   "source": [
    "%%time\n",
    "for i in range(len(neighb_geo)):\n",
    "    crime_geo.loc[crime_geo.intersects(neighb_geo.loc[i, 'geometry']), 'neighbourhood'] = neighb_geo['name'].loc[i]"
   ]
  },
  {
   "cell_type": "code",
   "execution_count": 22,
   "metadata": {},
   "outputs": [
    {
     "data": {
      "text/plain": [
       "0.002601313952580937"
      ]
     },
     "execution_count": 22,
     "metadata": {},
     "output_type": "execute_result"
    }
   ],
   "source": [
    "crime_geo['neighbourhood'].isna().sum() / len(crime_geo) #The percentage of missing data is minimal, so it is okay to drop it"
   ]
  },
  {
   "cell_type": "code",
   "execution_count": 23,
   "metadata": {},
   "outputs": [],
   "source": [
    "crime_geo.dropna(inplace=True)"
   ]
  },
  {
   "cell_type": "code",
   "execution_count": 24,
   "metadata": {},
   "outputs": [
    {
     "data": {
      "text/html": [
       "<div>\n",
       "<style scoped>\n",
       "    .dataframe tbody tr th:only-of-type {\n",
       "        vertical-align: middle;\n",
       "    }\n",
       "\n",
       "    .dataframe tbody tr th {\n",
       "        vertical-align: top;\n",
       "    }\n",
       "\n",
       "    .dataframe thead th {\n",
       "        text-align: right;\n",
       "    }\n",
       "</style>\n",
       "<table border=\"1\" class=\"dataframe\">\n",
       "  <thead>\n",
       "    <tr style=\"text-align: right;\">\n",
       "      <th></th>\n",
       "      <th>X</th>\n",
       "      <th>Y</th>\n",
       "    </tr>\n",
       "  </thead>\n",
       "  <tbody>\n",
       "    <tr>\n",
       "      <th>count</th>\n",
       "      <td>345079.000000</td>\n",
       "      <td>345079.000000</td>\n",
       "    </tr>\n",
       "    <tr>\n",
       "      <th>mean</th>\n",
       "      <td>-122.423619</td>\n",
       "      <td>37.769161</td>\n",
       "    </tr>\n",
       "    <tr>\n",
       "      <th>std</th>\n",
       "      <td>0.026103</td>\n",
       "      <td>0.023539</td>\n",
       "    </tr>\n",
       "    <tr>\n",
       "      <th>min</th>\n",
       "      <td>-122.513642</td>\n",
       "      <td>37.708154</td>\n",
       "    </tr>\n",
       "    <tr>\n",
       "      <th>25%</th>\n",
       "      <td>-122.433623</td>\n",
       "      <td>37.756624</td>\n",
       "    </tr>\n",
       "    <tr>\n",
       "      <th>50%</th>\n",
       "      <td>-122.417105</td>\n",
       "      <td>37.775421</td>\n",
       "    </tr>\n",
       "    <tr>\n",
       "      <th>75%</th>\n",
       "      <td>-122.406691</td>\n",
       "      <td>37.785094</td>\n",
       "    </tr>\n",
       "    <tr>\n",
       "      <th>max</th>\n",
       "      <td>-122.365241</td>\n",
       "      <td>37.819975</td>\n",
       "    </tr>\n",
       "  </tbody>\n",
       "</table>\n",
       "</div>"
      ],
      "text/plain": [
       "                   X              Y\n",
       "count  345079.000000  345079.000000\n",
       "mean     -122.423619      37.769161\n",
       "std         0.026103       0.023539\n",
       "min      -122.513642      37.708154\n",
       "25%      -122.433623      37.756624\n",
       "50%      -122.417105      37.775421\n",
       "75%      -122.406691      37.785094\n",
       "max      -122.365241      37.819975"
      ]
     },
     "execution_count": 24,
     "metadata": {},
     "output_type": "execute_result"
    }
   ],
   "source": [
    "crime_geo.describe()"
   ]
  },
  {
   "cell_type": "code",
   "execution_count": 25,
   "metadata": {},
   "outputs": [
    {
     "data": {
      "text/html": [
       "<div>\n",
       "<style scoped>\n",
       "    .dataframe tbody tr th:only-of-type {\n",
       "        vertical-align: middle;\n",
       "    }\n",
       "\n",
       "    .dataframe tbody tr th {\n",
       "        vertical-align: top;\n",
       "    }\n",
       "\n",
       "    .dataframe thead th {\n",
       "        text-align: right;\n",
       "    }\n",
       "</style>\n",
       "<table border=\"1\" class=\"dataframe\">\n",
       "  <thead>\n",
       "    <tr style=\"text-align: right;\">\n",
       "      <th></th>\n",
       "      <th>Category</th>\n",
       "      <th>Descript</th>\n",
       "      <th>DayOfWeek</th>\n",
       "      <th>Date</th>\n",
       "      <th>Time</th>\n",
       "      <th>PdDistrict</th>\n",
       "      <th>Resolution</th>\n",
       "      <th>X</th>\n",
       "      <th>Y</th>\n",
       "      <th>geometry</th>\n",
       "      <th>neighbourhood</th>\n",
       "    </tr>\n",
       "  </thead>\n",
       "  <tbody>\n",
       "    <tr>\n",
       "      <th>0</th>\n",
       "      <td>EMBEZZLEMENT</td>\n",
       "      <td>EMBEZZLEMENT, GRAND THEFT BY EMPLOYEE</td>\n",
       "      <td>Friday</td>\n",
       "      <td>2016-01-01</td>\n",
       "      <td>00:01</td>\n",
       "      <td>INGLESIDE</td>\n",
       "      <td>NONE</td>\n",
       "      <td>-122.450297</td>\n",
       "      <td>37.709552</td>\n",
       "      <td>POINT (-122.45030 37.70955)</td>\n",
       "      <td>Crocker Amazon</td>\n",
       "    </tr>\n",
       "    <tr>\n",
       "      <th>1</th>\n",
       "      <td>LARCENY/THEFT</td>\n",
       "      <td>PETTY THEFT OF PROPERTY</td>\n",
       "      <td>Friday</td>\n",
       "      <td>2016-01-01</td>\n",
       "      <td>13:40</td>\n",
       "      <td>CENTRAL</td>\n",
       "      <td>NONE</td>\n",
       "      <td>-122.414167</td>\n",
       "      <td>37.808420</td>\n",
       "      <td>POINT (-122.41417 37.80842)</td>\n",
       "      <td>Fishermans Wharf</td>\n",
       "    </tr>\n",
       "    <tr>\n",
       "      <th>2</th>\n",
       "      <td>LARCENY/THEFT</td>\n",
       "      <td>GRAND THEFT FROM A BUILDING</td>\n",
       "      <td>Friday</td>\n",
       "      <td>2016-01-01</td>\n",
       "      <td>00:01</td>\n",
       "      <td>BAYVIEW</td>\n",
       "      <td>NONE</td>\n",
       "      <td>-122.398745</td>\n",
       "      <td>37.730854</td>\n",
       "      <td>POINT (-122.39874 37.73085)</td>\n",
       "      <td>Silver Terrace</td>\n",
       "    </tr>\n",
       "    <tr>\n",
       "      <th>3</th>\n",
       "      <td>EMBEZZLEMENT</td>\n",
       "      <td>EMBEZZLEMENT, GRAND THEFT</td>\n",
       "      <td>Friday</td>\n",
       "      <td>2016-01-01</td>\n",
       "      <td>12:00</td>\n",
       "      <td>BAYVIEW</td>\n",
       "      <td>NONE</td>\n",
       "      <td>-122.388753</td>\n",
       "      <td>37.740736</td>\n",
       "      <td>POINT (-122.38875 37.74074)</td>\n",
       "      <td>Bayview</td>\n",
       "    </tr>\n",
       "    <tr>\n",
       "      <th>4</th>\n",
       "      <td>NON-CRIMINAL</td>\n",
       "      <td>CASE CLOSURE</td>\n",
       "      <td>Friday</td>\n",
       "      <td>2016-01-01</td>\n",
       "      <td>12:00</td>\n",
       "      <td>CENTRAL</td>\n",
       "      <td>UNFOUNDED</td>\n",
       "      <td>-122.420535</td>\n",
       "      <td>37.806189</td>\n",
       "      <td>POINT (-122.42053 37.80619)</td>\n",
       "      <td>Aquatic Park / Ft. Mason</td>\n",
       "    </tr>\n",
       "    <tr>\n",
       "      <th>...</th>\n",
       "      <td>...</td>\n",
       "      <td>...</td>\n",
       "      <td>...</td>\n",
       "      <td>...</td>\n",
       "      <td>...</td>\n",
       "      <td>...</td>\n",
       "      <td>...</td>\n",
       "      <td>...</td>\n",
       "      <td>...</td>\n",
       "      <td>...</td>\n",
       "      <td>...</td>\n",
       "    </tr>\n",
       "    <tr>\n",
       "      <th>345974</th>\n",
       "      <td>NON-CRIMINAL</td>\n",
       "      <td>AIDED CASE, MENTAL DISTURBED</td>\n",
       "      <td>Tuesday</td>\n",
       "      <td>2018-05-15</td>\n",
       "      <td>04:14</td>\n",
       "      <td>SOUTHERN</td>\n",
       "      <td>NONE</td>\n",
       "      <td>-122.419258</td>\n",
       "      <td>37.775146</td>\n",
       "      <td>POINT (-122.41926 37.77515)</td>\n",
       "      <td>South of Market</td>\n",
       "    </tr>\n",
       "    <tr>\n",
       "      <th>345975</th>\n",
       "      <td>DRUG/NARCOTIC</td>\n",
       "      <td>POSSESSION OF NARCOTICS PARAPHERNALIA</td>\n",
       "      <td>Tuesday</td>\n",
       "      <td>2018-05-15</td>\n",
       "      <td>01:25</td>\n",
       "      <td>SOUTHERN</td>\n",
       "      <td>ARREST, BOOKED</td>\n",
       "      <td>-122.410042</td>\n",
       "      <td>37.781954</td>\n",
       "      <td>POINT (-122.41004 37.78195)</td>\n",
       "      <td>South of Market</td>\n",
       "    </tr>\n",
       "    <tr>\n",
       "      <th>345976</th>\n",
       "      <td>ROBBERY</td>\n",
       "      <td>ROBBERY, BODILY FORCE</td>\n",
       "      <td>Tuesday</td>\n",
       "      <td>2018-05-15</td>\n",
       "      <td>01:25</td>\n",
       "      <td>SOUTHERN</td>\n",
       "      <td>ARREST, BOOKED</td>\n",
       "      <td>-122.410042</td>\n",
       "      <td>37.781954</td>\n",
       "      <td>POINT (-122.41004 37.78195)</td>\n",
       "      <td>South of Market</td>\n",
       "    </tr>\n",
       "    <tr>\n",
       "      <th>345977</th>\n",
       "      <td>LIQUOR LAWS</td>\n",
       "      <td>MISCELLANEOUS LIQOUR LAW VIOLATION</td>\n",
       "      <td>Tuesday</td>\n",
       "      <td>2018-05-15</td>\n",
       "      <td>00:19</td>\n",
       "      <td>PARK</td>\n",
       "      <td>ARREST, BOOKED</td>\n",
       "      <td>-122.447761</td>\n",
       "      <td>37.769846</td>\n",
       "      <td>POINT (-122.44776 37.76985)</td>\n",
       "      <td>Haight Ashbury</td>\n",
       "    </tr>\n",
       "    <tr>\n",
       "      <th>345978</th>\n",
       "      <td>OTHER OFFENSES</td>\n",
       "      <td>PAROLE VIOLATION</td>\n",
       "      <td>Tuesday</td>\n",
       "      <td>2018-05-15</td>\n",
       "      <td>02:01</td>\n",
       "      <td>MISSION</td>\n",
       "      <td>ARREST, BOOKED</td>\n",
       "      <td>-122.417813</td>\n",
       "      <td>37.757101</td>\n",
       "      <td>POINT (-122.41781 37.75710)</td>\n",
       "      <td>Mission</td>\n",
       "    </tr>\n",
       "  </tbody>\n",
       "</table>\n",
       "<p>345079 rows × 11 columns</p>\n",
       "</div>"
      ],
      "text/plain": [
       "              Category                               Descript DayOfWeek  \\\n",
       "0         EMBEZZLEMENT  EMBEZZLEMENT, GRAND THEFT BY EMPLOYEE    Friday   \n",
       "1        LARCENY/THEFT                PETTY THEFT OF PROPERTY    Friday   \n",
       "2        LARCENY/THEFT            GRAND THEFT FROM A BUILDING    Friday   \n",
       "3         EMBEZZLEMENT              EMBEZZLEMENT, GRAND THEFT    Friday   \n",
       "4         NON-CRIMINAL                           CASE CLOSURE    Friday   \n",
       "...                ...                                    ...       ...   \n",
       "345974    NON-CRIMINAL           AIDED CASE, MENTAL DISTURBED   Tuesday   \n",
       "345975   DRUG/NARCOTIC  POSSESSION OF NARCOTICS PARAPHERNALIA   Tuesday   \n",
       "345976         ROBBERY                  ROBBERY, BODILY FORCE   Tuesday   \n",
       "345977     LIQUOR LAWS     MISCELLANEOUS LIQOUR LAW VIOLATION   Tuesday   \n",
       "345978  OTHER OFFENSES                       PAROLE VIOLATION   Tuesday   \n",
       "\n",
       "             Date   Time PdDistrict      Resolution           X          Y  \\\n",
       "0      2016-01-01  00:01  INGLESIDE            NONE -122.450297  37.709552   \n",
       "1      2016-01-01  13:40    CENTRAL            NONE -122.414167  37.808420   \n",
       "2      2016-01-01  00:01    BAYVIEW            NONE -122.398745  37.730854   \n",
       "3      2016-01-01  12:00    BAYVIEW            NONE -122.388753  37.740736   \n",
       "4      2016-01-01  12:00    CENTRAL       UNFOUNDED -122.420535  37.806189   \n",
       "...           ...    ...        ...             ...         ...        ...   \n",
       "345974 2018-05-15  04:14   SOUTHERN            NONE -122.419258  37.775146   \n",
       "345975 2018-05-15  01:25   SOUTHERN  ARREST, BOOKED -122.410042  37.781954   \n",
       "345976 2018-05-15  01:25   SOUTHERN  ARREST, BOOKED -122.410042  37.781954   \n",
       "345977 2018-05-15  00:19       PARK  ARREST, BOOKED -122.447761  37.769846   \n",
       "345978 2018-05-15  02:01    MISSION  ARREST, BOOKED -122.417813  37.757101   \n",
       "\n",
       "                           geometry             neighbourhood  \n",
       "0       POINT (-122.45030 37.70955)            Crocker Amazon  \n",
       "1       POINT (-122.41417 37.80842)          Fishermans Wharf  \n",
       "2       POINT (-122.39874 37.73085)            Silver Terrace  \n",
       "3       POINT (-122.38875 37.74074)                   Bayview  \n",
       "4       POINT (-122.42053 37.80619)  Aquatic Park / Ft. Mason  \n",
       "...                             ...                       ...  \n",
       "345974  POINT (-122.41926 37.77515)           South of Market  \n",
       "345975  POINT (-122.41004 37.78195)           South of Market  \n",
       "345976  POINT (-122.41004 37.78195)           South of Market  \n",
       "345977  POINT (-122.44776 37.76985)            Haight Ashbury  \n",
       "345978  POINT (-122.41781 37.75710)                   Mission  \n",
       "\n",
       "[345079 rows x 11 columns]"
      ]
     },
     "execution_count": 25,
     "metadata": {},
     "output_type": "execute_result"
    }
   ],
   "source": [
    "crime_geo"
   ]
  },
  {
   "cell_type": "code",
   "execution_count": 26,
   "metadata": {},
   "outputs": [],
   "source": [
    "crime_geo.copy().to_csv('./data/combined_data_set.csv')"
   ]
  },
  {
   "cell_type": "markdown",
   "metadata": {},
   "source": [
    "### Data Cleaning"
   ]
  },
  {
   "cell_type": "code",
   "execution_count": 60,
   "metadata": {},
   "outputs": [],
   "source": [
    "df = pd.read_csv('./data/combined_data_set.csv')"
   ]
  },
  {
   "cell_type": "markdown",
   "metadata": {},
   "source": [
    "---\n",
    "# ********DELETE****************"
   ]
  },
  {
   "cell_type": "code",
   "execution_count": 28,
   "metadata": {},
   "outputs": [],
   "source": [
    "# df['Date'] = pd.to_datetime(df['Date'])\n",
    "# df['Month'] = df['Date'].dt.month\n",
    "# df['Day'] = df['Date'].dt.day\n",
    "# df['Year'] = df['Date'].dt.year"
   ]
  },
  {
   "cell_type": "code",
   "execution_count": 29,
   "metadata": {},
   "outputs": [],
   "source": [
    "# # Parts of day split between ranges below:\n",
    "# #     morning = 6am - 11:59pm (6,11)\n",
    "# #     aftrenoon = 12pm - 5:59pm (12, 17)\n",
    "# #     evening = 6pm - 10:59pm (18, 22)\n",
    "# #     overnight = 11pm - 5:59am (0, 5)\n",
    "# train['Morning'] = train['Dates'].dt.hour.between(6, 11).astype(int)\n",
    "# train['Afternoon'] = train['Dates'].dt.hour.between(12, 17).astype(int)\n",
    "# train['Evening'] = train['Dates'].dt.hour.between(18, 22).astype(int)\n",
    "# train['Overnight'] = (\n",
    "#     (train['Dates'].dt.hour == 23) | \\\n",
    "#     (train['Dates'].dt.hour.between(0, 5)) \\\n",
    "#     ).astype(int)"
   ]
  },
  {
   "cell_type": "code",
   "execution_count": 30,
   "metadata": {},
   "outputs": [],
   "source": [
    "# df['Time'] = pd.to_datetime(df['Time'])"
   ]
  },
  {
   "cell_type": "code",
   "execution_count": 31,
   "metadata": {},
   "outputs": [],
   "source": [
    "# df['Hour'] = df['Time'].dt.hour"
   ]
  },
  {
   "cell_type": "code",
   "execution_count": 32,
   "metadata": {},
   "outputs": [],
   "source": [
    "# df['Category'].value_counts()"
   ]
  },
  {
   "cell_type": "code",
   "execution_count": 33,
   "metadata": {},
   "outputs": [],
   "source": [
    "# plt.figure(figsvalue_counts))\n",
    "# sns.histplot(data=df, x='Hour', hue='Category')"
   ]
  },
  {
   "cell_type": "markdown",
   "metadata": {},
   "source": [
    "# ************************************\n",
    "---"
   ]
  },
  {
   "cell_type": "code",
   "execution_count": 61,
   "metadata": {},
   "outputs": [],
   "source": [
    "df['Date'] = pd.to_datetime(df['Date'])\n",
    "df['Time'] = pd.to_datetime(df['Time'])\n",
    "df['Month'] = df['Date'].dt.month\n",
    "df['Day'] = df['Date'].dt.day\n",
    "df['Year'] = df['Date'].dt.year\n",
    "df['Hour'] = df['Time'].dt.hour"
   ]
  },
  {
   "cell_type": "code",
   "execution_count": 62,
   "metadata": {},
   "outputs": [],
   "source": [
    "# Parts of day split between ranges below:\n",
    "#     morning = 6am - 11:59pm (6,11)\n",
    "#     aftrenoon = 12pm - 5:59pm (12, 17)\n",
    "#     evening = 6pm - 10:59pm (18, 22)\n",
    "#     overnight = 11pm - 5:59am (0, 5)\n",
    "\n",
    "df['Morning'] = df['Time'].dt.hour.between(6, 11).astype(int)\n",
    "df['Afternoon'] = df['Time'].dt.hour.between(12, 17).astype(int)\n",
    "df['Evening'] = df['Time'].dt.hour.between(18, 22).astype(int)\n",
    "df['Overnight'] = (\n",
    "    (df['Time'].dt.hour == 23) | \\\n",
    "    (df['Time'].dt.hour.between(0, 5)) \\\n",
    "    ).astype(int)"
   ]
  },
  {
   "cell_type": "code",
   "execution_count": 63,
   "metadata": {},
   "outputs": [],
   "source": [
    "# Drop columns due to multicollinearity\n",
    "df.drop(columns='Date', inplace=True)\n",
    "df.drop(columns='Time', inplace=True)"
   ]
  },
  {
   "cell_type": "code",
   "execution_count": 64,
   "metadata": {},
   "outputs": [],
   "source": [
    "# Drop row containint the category 'TREA' as there are only four occurences, or 0.0012% of total data.\n",
    "df = df[df['Category'] != 'TREA']"
   ]
  },
  {
   "cell_type": "code",
   "execution_count": 65,
   "metadata": {},
   "outputs": [],
   "source": [
    "# Drop rows where 'Category' is 'Other Offenses' or 'Recovered Vehicle'\n",
    "df = df[(df[\"Category\"] != 'OTHER OFFENSES')]\n",
    "df = df[(df[\"Category\"] != 'RECOVERED VEHICLE')]"
   ]
  },
  {
   "cell_type": "code",
   "execution_count": 66,
   "metadata": {},
   "outputs": [],
   "source": [
    "# Defining target categories\n",
    "target = {\n",
    "    'other': ['SUICIDE', 'DISORDERLY CONDUCT', 'DRUG/NARCOTIC', 'DRUNKENNESS', 'FRAUD', 'EMBEZZLEMENT',\n",
    "             'BRIBERY', 'EXTORTION', 'GAMBLING', 'BAD CHECKS', 'FORGERY/COUNTERFEITING', 'KIDNAPPING',\n",
    "             'SEX OFFENSES, NON FORCIBLE', 'SEX OFFENSES, FORCIBLE', 'FAMILY OFFENSES', 'SECONDARY CODES',\n",
    "             'NON-CRIMINAL'],\n",
    "    'police': ['PROSTITUTION', 'ASSAULT', 'ARSON', 'WEAPON LAWS', 'DRIVING UNDER THE INFLUENCE', 'ROBBERY'],\n",
    "    'police_non_urgent': ['LARCENY/THEFT', 'VEHICLE THEFT', 'STOLEN PROPERTY', 'SUSPICIOUS OCC',\n",
    "                         'VANDALISM', 'PORNOGRAPHY/OBSCENE MAT', 'LOITERING', 'MISSING PERSON',\n",
    "                         'BURGLARY', 'TRESPASS', 'WARRANTS',  'LIQUOR LAWS']\n",
    "}\n",
    "\n",
    "# Mapping 'Target' column from 'Categories' column\n",
    "#\n",
    "# The code below was taken from user ALollz's response to question at the following link:\n",
    "# https://stackoverflow.com/questions/64320960/pandas-create-a-column-by-mapping-from-a-dict-of-lists\n",
    "\n",
    "target_map = {val:key for key, lst in target.items() for val in lst}\n",
    "df['Target'] = df['Category'].map(target_map)"
   ]
  },
  {
   "cell_type": "code",
   "execution_count": 67,
   "metadata": {},
   "outputs": [],
   "source": [
    "# Changing 'Target' column to 'other' where 'Category' is 'Prostitution' AND 'Descript' contains any of\n",
    "#     the following words: ['trafficking', 'pimping', 'underage']\n",
    "#\n",
    "# Inspiration for the following code was taken from user cs95's response to the question at the link below:\n",
    "# https://stackoverflow.com/questions/47937697/scalable-solution-for-str-contains-with-list-of-strings-in-pandas\n",
    "\n",
    "prostitution_flags = ['trafficking', 'pimping', 'underage']\n",
    "flag = '|'.join(prostitution_flags)\n",
    "mask = df.loc[:, ('Descript')].str.lower().str.contains(flag)\n",
    "df.at[mask,'Target'] = 'other'"
   ]
  },
  {
   "cell_type": "code",
   "execution_count": 68,
   "metadata": {},
   "outputs": [],
   "source": [
    "# Changing 'Target' column to 'police_non_urgent' where 'Category' is 'PROSTITUTION' AND 'DESCRIPT' contains any of\n",
    "#     the following words: ['civil', 'investigation']\n",
    "non_crim_flags = ['civil', 'investigation']\n",
    "flag = '|'.join(non_crim_flags)\n",
    "mask = df.loc[:, ('Descript')].str.lower().str.contains(flag)\n",
    "df.at[mask,'Target'] = 'police_non_urgent'"
   ]
  },
  {
   "cell_type": "code",
   "execution_count": 69,
   "metadata": {},
   "outputs": [
    {
     "data": {
      "text/html": [
       "<div>\n",
       "<style scoped>\n",
       "    .dataframe tbody tr th:only-of-type {\n",
       "        vertical-align: middle;\n",
       "    }\n",
       "\n",
       "    .dataframe tbody tr th {\n",
       "        vertical-align: top;\n",
       "    }\n",
       "\n",
       "    .dataframe thead th {\n",
       "        text-align: right;\n",
       "    }\n",
       "</style>\n",
       "<table border=\"1\" class=\"dataframe\">\n",
       "  <thead>\n",
       "    <tr style=\"text-align: right;\">\n",
       "      <th></th>\n",
       "      <th>Unnamed: 0</th>\n",
       "      <th>Category</th>\n",
       "      <th>Descript</th>\n",
       "      <th>DayOfWeek</th>\n",
       "      <th>PdDistrict</th>\n",
       "      <th>Resolution</th>\n",
       "      <th>X</th>\n",
       "      <th>Y</th>\n",
       "      <th>geometry</th>\n",
       "      <th>neighbourhood</th>\n",
       "      <th>Month</th>\n",
       "      <th>Day</th>\n",
       "      <th>Year</th>\n",
       "      <th>Hour</th>\n",
       "      <th>Morning</th>\n",
       "      <th>Afternoon</th>\n",
       "      <th>Evening</th>\n",
       "      <th>Overnight</th>\n",
       "      <th>Target</th>\n",
       "    </tr>\n",
       "  </thead>\n",
       "  <tbody>\n",
       "    <tr>\n",
       "      <th>0</th>\n",
       "      <td>0</td>\n",
       "      <td>EMBEZZLEMENT</td>\n",
       "      <td>EMBEZZLEMENT, GRAND THEFT BY EMPLOYEE</td>\n",
       "      <td>Friday</td>\n",
       "      <td>INGLESIDE</td>\n",
       "      <td>NONE</td>\n",
       "      <td>-122.450297</td>\n",
       "      <td>37.709552</td>\n",
       "      <td>POINT (-122.4502971977728 37.70955194084215)</td>\n",
       "      <td>Crocker Amazon</td>\n",
       "      <td>1</td>\n",
       "      <td>1</td>\n",
       "      <td>2016</td>\n",
       "      <td>0</td>\n",
       "      <td>0</td>\n",
       "      <td>0</td>\n",
       "      <td>0</td>\n",
       "      <td>1</td>\n",
       "      <td>other</td>\n",
       "    </tr>\n",
       "    <tr>\n",
       "      <th>1</th>\n",
       "      <td>1</td>\n",
       "      <td>LARCENY/THEFT</td>\n",
       "      <td>PETTY THEFT OF PROPERTY</td>\n",
       "      <td>Friday</td>\n",
       "      <td>CENTRAL</td>\n",
       "      <td>NONE</td>\n",
       "      <td>-122.414167</td>\n",
       "      <td>37.808420</td>\n",
       "      <td>POINT (-122.4141665150933 37.80841991727097)</td>\n",
       "      <td>Fishermans Wharf</td>\n",
       "      <td>1</td>\n",
       "      <td>1</td>\n",
       "      <td>2016</td>\n",
       "      <td>13</td>\n",
       "      <td>0</td>\n",
       "      <td>1</td>\n",
       "      <td>0</td>\n",
       "      <td>0</td>\n",
       "      <td>police_non_urgent</td>\n",
       "    </tr>\n",
       "    <tr>\n",
       "      <th>2</th>\n",
       "      <td>2</td>\n",
       "      <td>LARCENY/THEFT</td>\n",
       "      <td>GRAND THEFT FROM A BUILDING</td>\n",
       "      <td>Friday</td>\n",
       "      <td>BAYVIEW</td>\n",
       "      <td>NONE</td>\n",
       "      <td>-122.398745</td>\n",
       "      <td>37.730854</td>\n",
       "      <td>POINT (-122.3987447553861 37.73085402180737)</td>\n",
       "      <td>Silver Terrace</td>\n",
       "      <td>1</td>\n",
       "      <td>1</td>\n",
       "      <td>2016</td>\n",
       "      <td>0</td>\n",
       "      <td>0</td>\n",
       "      <td>0</td>\n",
       "      <td>0</td>\n",
       "      <td>1</td>\n",
       "      <td>police_non_urgent</td>\n",
       "    </tr>\n",
       "    <tr>\n",
       "      <th>3</th>\n",
       "      <td>3</td>\n",
       "      <td>EMBEZZLEMENT</td>\n",
       "      <td>EMBEZZLEMENT, GRAND THEFT</td>\n",
       "      <td>Friday</td>\n",
       "      <td>BAYVIEW</td>\n",
       "      <td>NONE</td>\n",
       "      <td>-122.388753</td>\n",
       "      <td>37.740736</td>\n",
       "      <td>POINT (-122.3887530469972 37.74073605483584)</td>\n",
       "      <td>Bayview</td>\n",
       "      <td>1</td>\n",
       "      <td>1</td>\n",
       "      <td>2016</td>\n",
       "      <td>12</td>\n",
       "      <td>0</td>\n",
       "      <td>1</td>\n",
       "      <td>0</td>\n",
       "      <td>0</td>\n",
       "      <td>other</td>\n",
       "    </tr>\n",
       "    <tr>\n",
       "      <th>4</th>\n",
       "      <td>4</td>\n",
       "      <td>NON-CRIMINAL</td>\n",
       "      <td>CASE CLOSURE</td>\n",
       "      <td>Friday</td>\n",
       "      <td>CENTRAL</td>\n",
       "      <td>UNFOUNDED</td>\n",
       "      <td>-122.420535</td>\n",
       "      <td>37.806189</td>\n",
       "      <td>POINT (-122.4205346782714 37.8061892244521)</td>\n",
       "      <td>Aquatic Park / Ft. Mason</td>\n",
       "      <td>1</td>\n",
       "      <td>1</td>\n",
       "      <td>2016</td>\n",
       "      <td>12</td>\n",
       "      <td>0</td>\n",
       "      <td>1</td>\n",
       "      <td>0</td>\n",
       "      <td>0</td>\n",
       "      <td>other</td>\n",
       "    </tr>\n",
       "  </tbody>\n",
       "</table>\n",
       "</div>"
      ],
      "text/plain": [
       "   Unnamed: 0       Category                               Descript DayOfWeek  \\\n",
       "0           0   EMBEZZLEMENT  EMBEZZLEMENT, GRAND THEFT BY EMPLOYEE    Friday   \n",
       "1           1  LARCENY/THEFT                PETTY THEFT OF PROPERTY    Friday   \n",
       "2           2  LARCENY/THEFT            GRAND THEFT FROM A BUILDING    Friday   \n",
       "3           3   EMBEZZLEMENT              EMBEZZLEMENT, GRAND THEFT    Friday   \n",
       "4           4   NON-CRIMINAL                           CASE CLOSURE    Friday   \n",
       "\n",
       "  PdDistrict Resolution           X          Y  \\\n",
       "0  INGLESIDE       NONE -122.450297  37.709552   \n",
       "1    CENTRAL       NONE -122.414167  37.808420   \n",
       "2    BAYVIEW       NONE -122.398745  37.730854   \n",
       "3    BAYVIEW       NONE -122.388753  37.740736   \n",
       "4    CENTRAL  UNFOUNDED -122.420535  37.806189   \n",
       "\n",
       "                                       geometry             neighbourhood  \\\n",
       "0  POINT (-122.4502971977728 37.70955194084215)            Crocker Amazon   \n",
       "1  POINT (-122.4141665150933 37.80841991727097)          Fishermans Wharf   \n",
       "2  POINT (-122.3987447553861 37.73085402180737)            Silver Terrace   \n",
       "3  POINT (-122.3887530469972 37.74073605483584)                   Bayview   \n",
       "4   POINT (-122.4205346782714 37.8061892244521)  Aquatic Park / Ft. Mason   \n",
       "\n",
       "   Month  Day  Year  Hour  Morning  Afternoon  Evening  Overnight  \\\n",
       "0      1    1  2016     0        0          0        0          1   \n",
       "1      1    1  2016    13        0          1        0          0   \n",
       "2      1    1  2016     0        0          0        0          1   \n",
       "3      1    1  2016    12        0          1        0          0   \n",
       "4      1    1  2016    12        0          1        0          0   \n",
       "\n",
       "              Target  \n",
       "0              other  \n",
       "1  police_non_urgent  \n",
       "2  police_non_urgent  \n",
       "3              other  \n",
       "4              other  "
      ]
     },
     "execution_count": 69,
     "metadata": {},
     "output_type": "execute_result"
    }
   ],
   "source": [
    "df.head()"
   ]
  },
  {
   "cell_type": "code",
   "execution_count": 70,
   "metadata": {},
   "outputs": [
    {
     "data": {
      "image/png": "[encoded data removed]",
      "text/plain": [
       "<Figure size 432x288 with 1 Axes>"
      ]
     },
     "metadata": {
      "needs_background": "light"
     },
     "output_type": "display_data"
    }
   ],
   "source": [
    "df['Target'].value_counts().plot(kind='bar')\n",
    "plt.xticks(rotation=45);"
   ]
  },
  {
   "cell_type": "markdown",
   "metadata": {},
   "source": [
    "### Try to subcategorize the 'other' category, time permitting"
   ]
  },
  {
   "cell_type": "code",
   "execution_count": 154,
   "metadata": {},
   "outputs": [
    {
     "data": {
      "image/png": "[encoded data removed]",
      "text/plain": [
       "<Figure size 864x432 with 1 Axes>"
      ]
     },
     "metadata": {
      "needs_background": "light"
     },
     "output_type": "display_data"
    }
   ],
   "source": [
    "g = sns.catplot(x=\"Target\", y=\"Overnight\", hue=\"Month\", kind=\"bar\", data=df)\n",
    "g.fig.set_figwidth(12)\n",
    "g.fig.set_figheight(6)\n",
    "plt.xticks(ticks=[0,1,2], labels=['Specialty', 'Non-Urgent Police', 'Urgent Police'])\n",
    "plt.xlabel('Crime Category', fontsize=12)\n",
    "plt.ylabel('Overnight Rate', fontsize=12)\n",
    "plt.title('Proportion of Crime Committed Overnight, \\nby Category and Month', fontsize=15);"
   ]
  },
  {
   "cell_type": "code",
   "execution_count": null,
   "metadata": {},
   "outputs": [],
   "source": []
  },
  {
   "cell_type": "code",
   "execution_count": 155,
   "metadata": {},
   "outputs": [
    {
     "data": {
      "image/png": "[encoded data removed]",
      "text/plain": [
       "<Figure size 864x432 with 1 Axes>"
      ]
     },
     "metadata": {
      "needs_background": "light"
     },
     "output_type": "display_data"
    }
   ],
   "source": [
    "g = sns.catplot(x=\"Target\", y=\"Morning\", hue=\"Month\", kind=\"bar\", data=df)\n",
    "g.fig.set_figwidth(12)\n",
    "g.fig.set_figheight(6)\n",
    "plt.xticks(ticks=[0,1,2], labels=['Specialty', 'Non-Urgent Police', 'Urgent Police'])\n",
    "plt.xlabel('Crime Category', fontsize=12)\n",
    "plt.ylabel('Morning Rate', fontsize=12)\n",
    "plt.title('Proportion of Crime Committed in the Morning, \\nby Category and Month', fontsize=15);"
   ]
  },
  {
   "cell_type": "code",
   "execution_count": 156,
   "metadata": {},
   "outputs": [
    {
     "data": {
      "image/png": "[encoded data removed]",
      "text/plain": [
       "<Figure size 408.75x360 with 1 Axes>"
      ]
     },
     "metadata": {
      "needs_background": "light"
     },
     "output_type": "display_data"
    }
   ],
   "source": [
    "sns.catplot(x=\"Target\", y=\"Evening\", hue=\"Month\", kind=\"bar\", data=df)\n",
    "plt.xticks(ticks=[0,1,2], labels=['Specialty', 'Non-Urgent Police', 'Urgent Police'])\n",
    "plt.xlabel('Crime Category', fontsize=12)\n",
    "plt.ylabel('Evening Rate', fontsize=12)\n",
    "plt.title('Proportion of Crime Committed in the Evening, \\nby Category and Month', fontsize=15);"
   ]
  },
  {
   "cell_type": "code",
   "execution_count": 157,
   "metadata": {},
   "outputs": [
    {
     "data": {
      "image/png": "[encoded data removed]",
      "text/plain": [
       "<Figure size 864x432 with 1 Axes>"
      ]
     },
     "metadata": {
      "needs_background": "light"
     },
     "output_type": "display_data"
    }
   ],
   "source": [
    "g = sns.catplot(x=\"Target\", y=\"Overnight\", hue=\"PdDistrict\", kind=\"bar\", data=df);\n",
    "g.fig.set_figwidth(12)\n",
    "g.fig.set_figheight(6)\n",
    "plt.xticks(ticks=[0,1,2], labels=['Specialty', 'Non-Urgent Police', 'Urgent Police'])\n",
    "plt.xlabel('Crime Category', fontsize=12)\n",
    "plt.ylabel('Overnight Rate', fontsize=12)\n",
    "plt.title('Proportion of Crime Committed Overnight, by Category and Police District', fontsize=15);"
   ]
  },
  {
   "cell_type": "code",
   "execution_count": 146,
   "metadata": {},
   "outputs": [
    {
     "data": {
      "text/html": [
       "<div>\n",
       "<style scoped>\n",
       "    .dataframe tbody tr th:only-of-type {\n",
       "        vertical-align: middle;\n",
       "    }\n",
       "\n",
       "    .dataframe tbody tr th {\n",
       "        vertical-align: top;\n",
       "    }\n",
       "\n",
       "    .dataframe thead th {\n",
       "        text-align: right;\n",
       "    }\n",
       "</style>\n",
       "<table border=\"1\" class=\"dataframe\">\n",
       "  <thead>\n",
       "    <tr style=\"text-align: right;\">\n",
       "      <th></th>\n",
       "      <th>Unnamed: 0</th>\n",
       "      <th>Category</th>\n",
       "      <th>Descript</th>\n",
       "      <th>DayOfWeek</th>\n",
       "      <th>PdDistrict</th>\n",
       "      <th>Resolution</th>\n",
       "      <th>X</th>\n",
       "      <th>Y</th>\n",
       "      <th>geometry</th>\n",
       "      <th>neighbourhood</th>\n",
       "      <th>Month</th>\n",
       "      <th>Day</th>\n",
       "      <th>Year</th>\n",
       "      <th>Hour</th>\n",
       "      <th>Morning</th>\n",
       "      <th>Afternoon</th>\n",
       "      <th>Evening</th>\n",
       "      <th>Overnight</th>\n",
       "      <th>Target</th>\n",
       "    </tr>\n",
       "  </thead>\n",
       "  <tbody>\n",
       "    <tr>\n",
       "      <th>0</th>\n",
       "      <td>0</td>\n",
       "      <td>EMBEZZLEMENT</td>\n",
       "      <td>EMBEZZLEMENT, GRAND THEFT BY EMPLOYEE</td>\n",
       "      <td>Friday</td>\n",
       "      <td>INGLESIDE</td>\n",
       "      <td>NONE</td>\n",
       "      <td>-122.450297</td>\n",
       "      <td>37.709552</td>\n",
       "      <td>POINT (-122.4502971977728 37.70955194084215)</td>\n",
       "      <td>Crocker Amazon</td>\n",
       "      <td>1</td>\n",
       "      <td>1</td>\n",
       "      <td>2016</td>\n",
       "      <td>0</td>\n",
       "      <td>0</td>\n",
       "      <td>0</td>\n",
       "      <td>0</td>\n",
       "      <td>1</td>\n",
       "      <td>other</td>\n",
       "    </tr>\n",
       "    <tr>\n",
       "      <th>1</th>\n",
       "      <td>1</td>\n",
       "      <td>LARCENY/THEFT</td>\n",
       "      <td>PETTY THEFT OF PROPERTY</td>\n",
       "      <td>Friday</td>\n",
       "      <td>CENTRAL</td>\n",
       "      <td>NONE</td>\n",
       "      <td>-122.414167</td>\n",
       "      <td>37.808420</td>\n",
       "      <td>POINT (-122.4141665150933 37.80841991727097)</td>\n",
       "      <td>Fishermans Wharf</td>\n",
       "      <td>1</td>\n",
       "      <td>1</td>\n",
       "      <td>2016</td>\n",
       "      <td>13</td>\n",
       "      <td>0</td>\n",
       "      <td>1</td>\n",
       "      <td>0</td>\n",
       "      <td>0</td>\n",
       "      <td>police_non_urgent</td>\n",
       "    </tr>\n",
       "    <tr>\n",
       "      <th>2</th>\n",
       "      <td>2</td>\n",
       "      <td>LARCENY/THEFT</td>\n",
       "      <td>GRAND THEFT FROM A BUILDING</td>\n",
       "      <td>Friday</td>\n",
       "      <td>BAYVIEW</td>\n",
       "      <td>NONE</td>\n",
       "      <td>-122.398745</td>\n",
       "      <td>37.730854</td>\n",
       "      <td>POINT (-122.3987447553861 37.73085402180737)</td>\n",
       "      <td>Silver Terrace</td>\n",
       "      <td>1</td>\n",
       "      <td>1</td>\n",
       "      <td>2016</td>\n",
       "      <td>0</td>\n",
       "      <td>0</td>\n",
       "      <td>0</td>\n",
       "      <td>0</td>\n",
       "      <td>1</td>\n",
       "      <td>police_non_urgent</td>\n",
       "    </tr>\n",
       "    <tr>\n",
       "      <th>3</th>\n",
       "      <td>3</td>\n",
       "      <td>EMBEZZLEMENT</td>\n",
       "      <td>EMBEZZLEMENT, GRAND THEFT</td>\n",
       "      <td>Friday</td>\n",
       "      <td>BAYVIEW</td>\n",
       "      <td>NONE</td>\n",
       "      <td>-122.388753</td>\n",
       "      <td>37.740736</td>\n",
       "      <td>POINT (-122.3887530469972 37.74073605483584)</td>\n",
       "      <td>Bayview</td>\n",
       "      <td>1</td>\n",
       "      <td>1</td>\n",
       "      <td>2016</td>\n",
       "      <td>12</td>\n",
       "      <td>0</td>\n",
       "      <td>1</td>\n",
       "      <td>0</td>\n",
       "      <td>0</td>\n",
       "      <td>other</td>\n",
       "    </tr>\n",
       "    <tr>\n",
       "      <th>4</th>\n",
       "      <td>4</td>\n",
       "      <td>NON-CRIMINAL</td>\n",
       "      <td>CASE CLOSURE</td>\n",
       "      <td>Friday</td>\n",
       "      <td>CENTRAL</td>\n",
       "      <td>UNFOUNDED</td>\n",
       "      <td>-122.420535</td>\n",
       "      <td>37.806189</td>\n",
       "      <td>POINT (-122.4205346782714 37.8061892244521)</td>\n",
       "      <td>Aquatic Park / Ft. Mason</td>\n",
       "      <td>1</td>\n",
       "      <td>1</td>\n",
       "      <td>2016</td>\n",
       "      <td>12</td>\n",
       "      <td>0</td>\n",
       "      <td>1</td>\n",
       "      <td>0</td>\n",
       "      <td>0</td>\n",
       "      <td>other</td>\n",
       "    </tr>\n",
       "  </tbody>\n",
       "</table>\n",
       "</div>"
      ],
      "text/plain": [
       "   Unnamed: 0       Category                               Descript DayOfWeek  \\\n",
       "0           0   EMBEZZLEMENT  EMBEZZLEMENT, GRAND THEFT BY EMPLOYEE    Friday   \n",
       "1           1  LARCENY/THEFT                PETTY THEFT OF PROPERTY    Friday   \n",
       "2           2  LARCENY/THEFT            GRAND THEFT FROM A BUILDING    Friday   \n",
       "3           3   EMBEZZLEMENT              EMBEZZLEMENT, GRAND THEFT    Friday   \n",
       "4           4   NON-CRIMINAL                           CASE CLOSURE    Friday   \n",
       "\n",
       "  PdDistrict Resolution           X          Y  \\\n",
       "0  INGLESIDE       NONE -122.450297  37.709552   \n",
       "1    CENTRAL       NONE -122.414167  37.808420   \n",
       "2    BAYVIEW       NONE -122.398745  37.730854   \n",
       "3    BAYVIEW       NONE -122.388753  37.740736   \n",
       "4    CENTRAL  UNFOUNDED -122.420535  37.806189   \n",
       "\n",
       "                                       geometry             neighbourhood  \\\n",
       "0  POINT (-122.4502971977728 37.70955194084215)            Crocker Amazon   \n",
       "1  POINT (-122.4141665150933 37.80841991727097)          Fishermans Wharf   \n",
       "2  POINT (-122.3987447553861 37.73085402180737)            Silver Terrace   \n",
       "3  POINT (-122.3887530469972 37.74073605483584)                   Bayview   \n",
       "4   POINT (-122.4205346782714 37.8061892244521)  Aquatic Park / Ft. Mason   \n",
       "\n",
       "   Month  Day  Year  Hour  Morning  Afternoon  Evening  Overnight  \\\n",
       "0      1    1  2016     0        0          0        0          1   \n",
       "1      1    1  2016    13        0          1        0          0   \n",
       "2      1    1  2016     0        0          0        0          1   \n",
       "3      1    1  2016    12        0          1        0          0   \n",
       "4      1    1  2016    12        0          1        0          0   \n",
       "\n",
       "              Target  \n",
       "0              other  \n",
       "1  police_non_urgent  \n",
       "2  police_non_urgent  \n",
       "3              other  \n",
       "4              other  "
      ]
     },
     "execution_count": 146,
     "metadata": {},
     "output_type": "execute_result"
    }
   ],
   "source": [
    "df.head()"
   ]
  },
  {
   "cell_type": "code",
   "execution_count": 151,
   "metadata": {},
   "outputs": [
    {
     "data": {
      "image/png": "[encoded data removed]",
      "text/plain": [
       "<Figure size 1080x576 with 1 Axes>"
      ]
     },
     "metadata": {
      "needs_background": "light"
     },
     "output_type": "display_data"
    }
   ],
   "source": [
    "fig_size = (15, 8)\n",
    "fig, ax = plt.subplots(figsize=fig_size)\n",
    "sns.countplot(x=\"PdDistrict\", hue=\"DayOfWeek\", data=df);\n",
    "plt.xlabel('Police District', fontsize=12)\n",
    "plt.ylabel('Crime Count', fontsize=12)\n",
    "plt.title('Count of Crimes per Police District and Days of the Week', fontsize=15);"
   ]
  },
  {
   "cell_type": "code",
   "execution_count": 158,
   "metadata": {},
   "outputs": [
    {
     "data": {
      "image/png": "[encoded data removed]",
      "text/plain": [
       "<Figure size 1080x576 with 1 Axes>"
      ]
     },
     "metadata": {
      "needs_background": "light"
     },
     "output_type": "display_data"
    }
   ],
   "source": [
    "fig_size = (15, 8)\n",
    "fig, ax = plt.subplots(figsize=fig_size)\n",
    "sns.countplot(x=\"DayOfWeek\", hue=\"PdDistrict\", data=df);\n",
    "plt.xlabel('Police District', fontsize=12)\n",
    "plt.ylabel('Crime Count', fontsize=12)\n",
    "plt.title('Count of Crimes per Police District and Days of the Week', fontsize=15);"
   ]
  },
  {
   "cell_type": "code",
   "execution_count": 152,
   "metadata": {},
   "outputs": [
    {
     "data": {
      "image/png": "[encoded data removed]",
      "text/plain": [
       "<Figure size 1080x576 with 1 Axes>"
      ]
     },
     "metadata": {
      "needs_background": "light"
     },
     "output_type": "display_data"
    }
   ],
   "source": [
    "fig_size = (15, 8)\n",
    "fig, ax = plt.subplots(figsize=fig_size)\n",
    "sns.countplot(x=\"PdDistrict\", hue=\"Target\", data=df);\n",
    "plt.xlabel('Police District', fontsize=12)\n",
    "plt.ylabel('Crime Count', fontsize=12)\n",
    "plt.title('Count of Crimes per Police District and Days of the Week', fontsize=15);"
   ]
  },
  {
   "cell_type": "code",
   "execution_count": 165,
   "metadata": {},
   "outputs": [
    {
     "data": {
      "image/png": "[encoded data removed]",
      "text/plain": [
       "<Figure size 1080x576 with 1 Axes>"
      ]
     },
     "metadata": {
      "needs_background": "light"
     },
     "output_type": "display_data"
    }
   ],
   "source": [
    "fig_size = (15, 8)\n",
    "fig, ax = plt.subplots(figsize=fig_size)\n",
    "sns.countplot(x=\"DayOfWeek\", data=df);\n",
    "plt.xlabel('Police District', fontsize=12)\n",
    "plt.ylabel('Crime Count', fontsize=12)\n",
    "plt.title('Count of Crimes per Police District and Days of the Week', fontsize=15);"
   ]
  },
  {
   "cell_type": "code",
   "execution_count": 161,
   "metadata": {},
   "outputs": [
    {
     "data": {
      "text/html": [
       "<div>\n",
       "<style scoped>\n",
       "    .dataframe tbody tr th:only-of-type {\n",
       "        vertical-align: middle;\n",
       "    }\n",
       "\n",
       "    .dataframe tbody tr th {\n",
       "        vertical-align: top;\n",
       "    }\n",
       "\n",
       "    .dataframe thead th {\n",
       "        text-align: right;\n",
       "    }\n",
       "</style>\n",
       "<table border=\"1\" class=\"dataframe\">\n",
       "  <thead>\n",
       "    <tr style=\"text-align: right;\">\n",
       "      <th></th>\n",
       "      <th>Unnamed: 0</th>\n",
       "      <th>Category</th>\n",
       "      <th>Descript</th>\n",
       "      <th>DayOfWeek</th>\n",
       "      <th>PdDistrict</th>\n",
       "      <th>Resolution</th>\n",
       "      <th>X</th>\n",
       "      <th>Y</th>\n",
       "      <th>geometry</th>\n",
       "      <th>neighbourhood</th>\n",
       "      <th>Month</th>\n",
       "      <th>Day</th>\n",
       "      <th>Year</th>\n",
       "      <th>Hour</th>\n",
       "      <th>Morning</th>\n",
       "      <th>Afternoon</th>\n",
       "      <th>Evening</th>\n",
       "      <th>Overnight</th>\n",
       "      <th>Target</th>\n",
       "    </tr>\n",
       "  </thead>\n",
       "  <tbody>\n",
       "    <tr>\n",
       "      <th>0</th>\n",
       "      <td>0</td>\n",
       "      <td>EMBEZZLEMENT</td>\n",
       "      <td>EMBEZZLEMENT, GRAND THEFT BY EMPLOYEE</td>\n",
       "      <td>Friday</td>\n",
       "      <td>INGLESIDE</td>\n",
       "      <td>NONE</td>\n",
       "      <td>-122.450297</td>\n",
       "      <td>37.709552</td>\n",
       "      <td>POINT (-122.4502971977728 37.70955194084215)</td>\n",
       "      <td>Crocker Amazon</td>\n",
       "      <td>1</td>\n",
       "      <td>1</td>\n",
       "      <td>2016</td>\n",
       "      <td>0</td>\n",
       "      <td>0</td>\n",
       "      <td>0</td>\n",
       "      <td>0</td>\n",
       "      <td>1</td>\n",
       "      <td>other</td>\n",
       "    </tr>\n",
       "    <tr>\n",
       "      <th>1</th>\n",
       "      <td>1</td>\n",
       "      <td>LARCENY/THEFT</td>\n",
       "      <td>PETTY THEFT OF PROPERTY</td>\n",
       "      <td>Friday</td>\n",
       "      <td>CENTRAL</td>\n",
       "      <td>NONE</td>\n",
       "      <td>-122.414167</td>\n",
       "      <td>37.808420</td>\n",
       "      <td>POINT (-122.4141665150933 37.80841991727097)</td>\n",
       "      <td>Fishermans Wharf</td>\n",
       "      <td>1</td>\n",
       "      <td>1</td>\n",
       "      <td>2016</td>\n",
       "      <td>13</td>\n",
       "      <td>0</td>\n",
       "      <td>1</td>\n",
       "      <td>0</td>\n",
       "      <td>0</td>\n",
       "      <td>police_non_urgent</td>\n",
       "    </tr>\n",
       "    <tr>\n",
       "      <th>2</th>\n",
       "      <td>2</td>\n",
       "      <td>LARCENY/THEFT</td>\n",
       "      <td>GRAND THEFT FROM A BUILDING</td>\n",
       "      <td>Friday</td>\n",
       "      <td>BAYVIEW</td>\n",
       "      <td>NONE</td>\n",
       "      <td>-122.398745</td>\n",
       "      <td>37.730854</td>\n",
       "      <td>POINT (-122.3987447553861 37.73085402180737)</td>\n",
       "      <td>Silver Terrace</td>\n",
       "      <td>1</td>\n",
       "      <td>1</td>\n",
       "      <td>2016</td>\n",
       "      <td>0</td>\n",
       "      <td>0</td>\n",
       "      <td>0</td>\n",
       "      <td>0</td>\n",
       "      <td>1</td>\n",
       "      <td>police_non_urgent</td>\n",
       "    </tr>\n",
       "    <tr>\n",
       "      <th>3</th>\n",
       "      <td>3</td>\n",
       "      <td>EMBEZZLEMENT</td>\n",
       "      <td>EMBEZZLEMENT, GRAND THEFT</td>\n",
       "      <td>Friday</td>\n",
       "      <td>BAYVIEW</td>\n",
       "      <td>NONE</td>\n",
       "      <td>-122.388753</td>\n",
       "      <td>37.740736</td>\n",
       "      <td>POINT (-122.3887530469972 37.74073605483584)</td>\n",
       "      <td>Bayview</td>\n",
       "      <td>1</td>\n",
       "      <td>1</td>\n",
       "      <td>2016</td>\n",
       "      <td>12</td>\n",
       "      <td>0</td>\n",
       "      <td>1</td>\n",
       "      <td>0</td>\n",
       "      <td>0</td>\n",
       "      <td>other</td>\n",
       "    </tr>\n",
       "    <tr>\n",
       "      <th>4</th>\n",
       "      <td>4</td>\n",
       "      <td>NON-CRIMINAL</td>\n",
       "      <td>CASE CLOSURE</td>\n",
       "      <td>Friday</td>\n",
       "      <td>CENTRAL</td>\n",
       "      <td>UNFOUNDED</td>\n",
       "      <td>-122.420535</td>\n",
       "      <td>37.806189</td>\n",
       "      <td>POINT (-122.4205346782714 37.8061892244521)</td>\n",
       "      <td>Aquatic Park / Ft. Mason</td>\n",
       "      <td>1</td>\n",
       "      <td>1</td>\n",
       "      <td>2016</td>\n",
       "      <td>12</td>\n",
       "      <td>0</td>\n",
       "      <td>1</td>\n",
       "      <td>0</td>\n",
       "      <td>0</td>\n",
       "      <td>other</td>\n",
       "    </tr>\n",
       "  </tbody>\n",
       "</table>\n",
       "</div>"
      ],
      "text/plain": [
       "   Unnamed: 0       Category                               Descript DayOfWeek  \\\n",
       "0           0   EMBEZZLEMENT  EMBEZZLEMENT, GRAND THEFT BY EMPLOYEE    Friday   \n",
       "1           1  LARCENY/THEFT                PETTY THEFT OF PROPERTY    Friday   \n",
       "2           2  LARCENY/THEFT            GRAND THEFT FROM A BUILDING    Friday   \n",
       "3           3   EMBEZZLEMENT              EMBEZZLEMENT, GRAND THEFT    Friday   \n",
       "4           4   NON-CRIMINAL                           CASE CLOSURE    Friday   \n",
       "\n",
       "  PdDistrict Resolution           X          Y  \\\n",
       "0  INGLESIDE       NONE -122.450297  37.709552   \n",
       "1    CENTRAL       NONE -122.414167  37.808420   \n",
       "2    BAYVIEW       NONE -122.398745  37.730854   \n",
       "3    BAYVIEW       NONE -122.388753  37.740736   \n",
       "4    CENTRAL  UNFOUNDED -122.420535  37.806189   \n",
       "\n",
       "                                       geometry             neighbourhood  \\\n",
       "0  POINT (-122.4502971977728 37.70955194084215)            Crocker Amazon   \n",
       "1  POINT (-122.4141665150933 37.80841991727097)          Fishermans Wharf   \n",
       "2  POINT (-122.3987447553861 37.73085402180737)            Silver Terrace   \n",
       "3  POINT (-122.3887530469972 37.74073605483584)                   Bayview   \n",
       "4   POINT (-122.4205346782714 37.8061892244521)  Aquatic Park / Ft. Mason   \n",
       "\n",
       "   Month  Day  Year  Hour  Morning  Afternoon  Evening  Overnight  \\\n",
       "0      1    1  2016     0        0          0        0          1   \n",
       "1      1    1  2016    13        0          1        0          0   \n",
       "2      1    1  2016     0        0          0        0          1   \n",
       "3      1    1  2016    12        0          1        0          0   \n",
       "4      1    1  2016    12        0          1        0          0   \n",
       "\n",
       "              Target  \n",
       "0              other  \n",
       "1  police_non_urgent  \n",
       "2  police_non_urgent  \n",
       "3              other  \n",
       "4              other  "
      ]
     },
     "execution_count": 161,
     "metadata": {},
     "output_type": "execute_result"
    }
   ],
   "source": [
    "df.head()"
   ]
  },
  {
   "cell_type": "code",
   "execution_count": 122,
   "metadata": {},
   "outputs": [
    {
     "data": {
      "image/png": "[encoded data removed]",
      "text/plain": [
       "<Figure size 1080x576 with 1 Axes>"
      ]
     },
     "metadata": {
      "needs_background": "light"
     },
     "output_type": "display_data"
    }
   ],
   "source": [
    "fig_size = (15, 8)\n",
    "fig, ax = plt.subplots(figsize=fig_size)\n",
    "sns.countplot(x=\"PdDistrict\", palette=\"ch:.25\", data=df, ax=ax)\n",
    "plt.xlabel('Police District', fontsize=14)\n",
    "plt.ylabel('Crime Count', fontsize=14)\n",
    "plt.title('Count of San Francisco Crimes by Police District', fontsize=18);"
   ]
  },
  {
   "cell_type": "code",
   "execution_count": 168,
   "metadata": {},
   "outputs": [
    {
     "data": {
      "text/html": [
       "<div>\n",
       "<style scoped>\n",
       "    .dataframe tbody tr th:only-of-type {\n",
       "        vertical-align: middle;\n",
       "    }\n",
       "\n",
       "    .dataframe tbody tr th {\n",
       "        vertical-align: top;\n",
       "    }\n",
       "\n",
       "    .dataframe thead th {\n",
       "        text-align: right;\n",
       "    }\n",
       "</style>\n",
       "<table border=\"1\" class=\"dataframe\">\n",
       "  <thead>\n",
       "    <tr style=\"text-align: right;\">\n",
       "      <th></th>\n",
       "      <th>Unnamed: 0</th>\n",
       "      <th>Category</th>\n",
       "      <th>Descript</th>\n",
       "      <th>DayOfWeek</th>\n",
       "      <th>PdDistrict</th>\n",
       "      <th>Resolution</th>\n",
       "      <th>X</th>\n",
       "      <th>Y</th>\n",
       "      <th>geometry</th>\n",
       "      <th>neighbourhood</th>\n",
       "      <th>Month</th>\n",
       "      <th>Day</th>\n",
       "      <th>Year</th>\n",
       "      <th>Hour</th>\n",
       "      <th>Morning</th>\n",
       "      <th>Afternoon</th>\n",
       "      <th>Evening</th>\n",
       "      <th>Overnight</th>\n",
       "      <th>Target</th>\n",
       "    </tr>\n",
       "  </thead>\n",
       "  <tbody>\n",
       "    <tr>\n",
       "      <th>0</th>\n",
       "      <td>0</td>\n",
       "      <td>EMBEZZLEMENT</td>\n",
       "      <td>EMBEZZLEMENT, GRAND THEFT BY EMPLOYEE</td>\n",
       "      <td>Friday</td>\n",
       "      <td>INGLESIDE</td>\n",
       "      <td>NONE</td>\n",
       "      <td>-122.450297</td>\n",
       "      <td>37.709552</td>\n",
       "      <td>POINT (-122.4502971977728 37.70955194084215)</td>\n",
       "      <td>Crocker Amazon</td>\n",
       "      <td>1</td>\n",
       "      <td>1</td>\n",
       "      <td>2016</td>\n",
       "      <td>0</td>\n",
       "      <td>0</td>\n",
       "      <td>0</td>\n",
       "      <td>0</td>\n",
       "      <td>1</td>\n",
       "      <td>other</td>\n",
       "    </tr>\n",
       "    <tr>\n",
       "      <th>1</th>\n",
       "      <td>1</td>\n",
       "      <td>LARCENY/THEFT</td>\n",
       "      <td>PETTY THEFT OF PROPERTY</td>\n",
       "      <td>Friday</td>\n",
       "      <td>CENTRAL</td>\n",
       "      <td>NONE</td>\n",
       "      <td>-122.414167</td>\n",
       "      <td>37.808420</td>\n",
       "      <td>POINT (-122.4141665150933 37.80841991727097)</td>\n",
       "      <td>Fishermans Wharf</td>\n",
       "      <td>1</td>\n",
       "      <td>1</td>\n",
       "      <td>2016</td>\n",
       "      <td>13</td>\n",
       "      <td>0</td>\n",
       "      <td>1</td>\n",
       "      <td>0</td>\n",
       "      <td>0</td>\n",
       "      <td>police_non_urgent</td>\n",
       "    </tr>\n",
       "    <tr>\n",
       "      <th>2</th>\n",
       "      <td>2</td>\n",
       "      <td>LARCENY/THEFT</td>\n",
       "      <td>GRAND THEFT FROM A BUILDING</td>\n",
       "      <td>Friday</td>\n",
       "      <td>BAYVIEW</td>\n",
       "      <td>NONE</td>\n",
       "      <td>-122.398745</td>\n",
       "      <td>37.730854</td>\n",
       "      <td>POINT (-122.3987447553861 37.73085402180737)</td>\n",
       "      <td>Silver Terrace</td>\n",
       "      <td>1</td>\n",
       "      <td>1</td>\n",
       "      <td>2016</td>\n",
       "      <td>0</td>\n",
       "      <td>0</td>\n",
       "      <td>0</td>\n",
       "      <td>0</td>\n",
       "      <td>1</td>\n",
       "      <td>police_non_urgent</td>\n",
       "    </tr>\n",
       "    <tr>\n",
       "      <th>3</th>\n",
       "      <td>3</td>\n",
       "      <td>EMBEZZLEMENT</td>\n",
       "      <td>EMBEZZLEMENT, GRAND THEFT</td>\n",
       "      <td>Friday</td>\n",
       "      <td>BAYVIEW</td>\n",
       "      <td>NONE</td>\n",
       "      <td>-122.388753</td>\n",
       "      <td>37.740736</td>\n",
       "      <td>POINT (-122.3887530469972 37.74073605483584)</td>\n",
       "      <td>Bayview</td>\n",
       "      <td>1</td>\n",
       "      <td>1</td>\n",
       "      <td>2016</td>\n",
       "      <td>12</td>\n",
       "      <td>0</td>\n",
       "      <td>1</td>\n",
       "      <td>0</td>\n",
       "      <td>0</td>\n",
       "      <td>other</td>\n",
       "    </tr>\n",
       "    <tr>\n",
       "      <th>4</th>\n",
       "      <td>4</td>\n",
       "      <td>NON-CRIMINAL</td>\n",
       "      <td>CASE CLOSURE</td>\n",
       "      <td>Friday</td>\n",
       "      <td>CENTRAL</td>\n",
       "      <td>UNFOUNDED</td>\n",
       "      <td>-122.420535</td>\n",
       "      <td>37.806189</td>\n",
       "      <td>POINT (-122.4205346782714 37.8061892244521)</td>\n",
       "      <td>Aquatic Park / Ft. Mason</td>\n",
       "      <td>1</td>\n",
       "      <td>1</td>\n",
       "      <td>2016</td>\n",
       "      <td>12</td>\n",
       "      <td>0</td>\n",
       "      <td>1</td>\n",
       "      <td>0</td>\n",
       "      <td>0</td>\n",
       "      <td>other</td>\n",
       "    </tr>\n",
       "  </tbody>\n",
       "</table>\n",
       "</div>"
      ],
      "text/plain": [
       "   Unnamed: 0       Category                               Descript DayOfWeek  \\\n",
       "0           0   EMBEZZLEMENT  EMBEZZLEMENT, GRAND THEFT BY EMPLOYEE    Friday   \n",
       "1           1  LARCENY/THEFT                PETTY THEFT OF PROPERTY    Friday   \n",
       "2           2  LARCENY/THEFT            GRAND THEFT FROM A BUILDING    Friday   \n",
       "3           3   EMBEZZLEMENT              EMBEZZLEMENT, GRAND THEFT    Friday   \n",
       "4           4   NON-CRIMINAL                           CASE CLOSURE    Friday   \n",
       "\n",
       "  PdDistrict Resolution           X          Y  \\\n",
       "0  INGLESIDE       NONE -122.450297  37.709552   \n",
       "1    CENTRAL       NONE -122.414167  37.808420   \n",
       "2    BAYVIEW       NONE -122.398745  37.730854   \n",
       "3    BAYVIEW       NONE -122.388753  37.740736   \n",
       "4    CENTRAL  UNFOUNDED -122.420535  37.806189   \n",
       "\n",
       "                                       geometry             neighbourhood  \\\n",
       "0  POINT (-122.4502971977728 37.70955194084215)            Crocker Amazon   \n",
       "1  POINT (-122.4141665150933 37.80841991727097)          Fishermans Wharf   \n",
       "2  POINT (-122.3987447553861 37.73085402180737)            Silver Terrace   \n",
       "3  POINT (-122.3887530469972 37.74073605483584)                   Bayview   \n",
       "4   POINT (-122.4205346782714 37.8061892244521)  Aquatic Park / Ft. Mason   \n",
       "\n",
       "   Month  Day  Year  Hour  Morning  Afternoon  Evening  Overnight  \\\n",
       "0      1    1  2016     0        0          0        0          1   \n",
       "1      1    1  2016    13        0          1        0          0   \n",
       "2      1    1  2016     0        0          0        0          1   \n",
       "3      1    1  2016    12        0          1        0          0   \n",
       "4      1    1  2016    12        0          1        0          0   \n",
       "\n",
       "              Target  \n",
       "0              other  \n",
       "1  police_non_urgent  \n",
       "2  police_non_urgent  \n",
       "3              other  \n",
       "4              other  "
      ]
     },
     "execution_count": 168,
     "metadata": {},
     "output_type": "execute_result"
    }
   ],
   "source": [
    "df.head()"
   ]
  },
  {
   "cell_type": "code",
   "execution_count": 180,
   "metadata": {},
   "outputs": [
    {
     "data": {
      "image/png": "[encoded data removed]",
      "text/plain": [
       "<Figure size 1080x576 with 1 Axes>"
      ]
     },
     "metadata": {
      "needs_background": "light"
     },
     "output_type": "display_data"
    }
   ],
   "source": [
    "fig, ax = plt.subplots(figsize=fig_size)\n",
    "sns.countplot(y=\"Target\", hue=\"Hour\",\n",
    "            palette=\"pastel\", edgecolor=\".6\",\n",
    "            data=df[df['PdDistrict'] == 'SOUTHERN'], ax=ax)\n",
    "plt.xlim([0, 3500])\n",
    "plt.yticks(ticks=[0,1,2], labels=['Specialty', 'Non-Urgent Police', 'Urgent Police'])\n",
    "plt.xlabel('Amount of Crimes', fontsize=12)\n",
    "plt.ylabel('Crime Category', fontsize=12)\n",
    "plt.title('Count of Crimes in Southern District by Category and Days of the Week', fontsize=15);"
   ]
  },
  {
   "cell_type": "code",
   "execution_count": 179,
   "metadata": {},
   "outputs": [
    {
     "data": {
      "image/png": "[encoded data removed]",
      "text/plain": [
       "<Figure size 1080x576 with 1 Axes>"
      ]
     },
     "metadata": {
      "needs_background": "light"
     },
     "output_type": "display_data"
    }
   ],
   "source": [
    "fig, ax = plt.subplots(figsize=fig_size)\n",
    "sns.countplot(y=\"Target\", hue=\"Hour\",\n",
    "            palette=\"pastel\", edgecolor=\".6\",\n",
    "            data=df[df['PdDistrict'] == 'PARK'], ax=ax)\n",
    "plt.xlim([0, 3500])\n",
    "plt.yticks(ticks=[0,1,2], labels=['Specialty', 'Non-Urgent Police', 'Urgent Police'])\n",
    "plt.xlabel('Amount of Crimes', fontsize=12)\n",
    "plt.ylabel('Crime Category', fontsize=12)\n",
    "plt.title('Count of Crimes in Park District by Category and Days of the Week', fontsize=15);"
   ]
  },
  {
   "cell_type": "code",
   "execution_count": 128,
   "metadata": {},
   "outputs": [
    {
     "data": {
      "image/png": "[encoded data removed]",
      "text/plain": [
       "<Figure size 432x288 with 1 Axes>"
      ]
     },
     "metadata": {
      "needs_background": "light"
     },
     "output_type": "display_data"
    }
   ],
   "source": [
    "sns.countplot(x=df['Hour'])\n",
    "plt.xlabel('Hour of the Day', fontsize=12)\n",
    "plt.ylabel('Crime Count', fontsize=12)\n",
    "plt.title('Count of Crimes by Hour', fontsize=15);"
   ]
  },
  {
   "cell_type": "code",
   "execution_count": 79,
   "metadata": {},
   "outputs": [
    {
     "data": {
      "text/plain": [
       "116"
      ]
     },
     "execution_count": 79,
     "metadata": {},
     "output_type": "execute_result"
    }
   ],
   "source": [
    "len(df['neighbourhood'].value_counts())"
   ]
  },
  {
   "cell_type": "code",
   "execution_count": 137,
   "metadata": {},
   "outputs": [
    {
     "data": {
      "text/html": [
       "<div>\n",
       "<style scoped>\n",
       "    .dataframe tbody tr th:only-of-type {\n",
       "        vertical-align: middle;\n",
       "    }\n",
       "\n",
       "    .dataframe tbody tr th {\n",
       "        vertical-align: top;\n",
       "    }\n",
       "\n",
       "    .dataframe thead th {\n",
       "        text-align: right;\n",
       "    }\n",
       "</style>\n",
       "<table border=\"1\" class=\"dataframe\">\n",
       "  <thead>\n",
       "    <tr style=\"text-align: right;\">\n",
       "      <th></th>\n",
       "      <th>Unnamed: 0</th>\n",
       "      <th>Category</th>\n",
       "      <th>Descript</th>\n",
       "      <th>DayOfWeek</th>\n",
       "      <th>PdDistrict</th>\n",
       "      <th>Resolution</th>\n",
       "      <th>X</th>\n",
       "      <th>Y</th>\n",
       "      <th>geometry</th>\n",
       "      <th>neighbourhood</th>\n",
       "      <th>Month</th>\n",
       "      <th>Day</th>\n",
       "      <th>Year</th>\n",
       "      <th>Hour</th>\n",
       "      <th>Morning</th>\n",
       "      <th>Afternoon</th>\n",
       "      <th>Evening</th>\n",
       "      <th>Overnight</th>\n",
       "      <th>Target</th>\n",
       "    </tr>\n",
       "  </thead>\n",
       "  <tbody>\n",
       "    <tr>\n",
       "      <th>0</th>\n",
       "      <td>0</td>\n",
       "      <td>EMBEZZLEMENT</td>\n",
       "      <td>EMBEZZLEMENT, GRAND THEFT BY EMPLOYEE</td>\n",
       "      <td>Friday</td>\n",
       "      <td>INGLESIDE</td>\n",
       "      <td>NONE</td>\n",
       "      <td>-122.450297</td>\n",
       "      <td>37.709552</td>\n",
       "      <td>POINT (-122.4502971977728 37.70955194084215)</td>\n",
       "      <td>Crocker Amazon</td>\n",
       "      <td>1</td>\n",
       "      <td>1</td>\n",
       "      <td>2016</td>\n",
       "      <td>0</td>\n",
       "      <td>0</td>\n",
       "      <td>0</td>\n",
       "      <td>0</td>\n",
       "      <td>1</td>\n",
       "      <td>other</td>\n",
       "    </tr>\n",
       "    <tr>\n",
       "      <th>1</th>\n",
       "      <td>1</td>\n",
       "      <td>LARCENY/THEFT</td>\n",
       "      <td>PETTY THEFT OF PROPERTY</td>\n",
       "      <td>Friday</td>\n",
       "      <td>CENTRAL</td>\n",
       "      <td>NONE</td>\n",
       "      <td>-122.414167</td>\n",
       "      <td>37.808420</td>\n",
       "      <td>POINT (-122.4141665150933 37.80841991727097)</td>\n",
       "      <td>Fishermans Wharf</td>\n",
       "      <td>1</td>\n",
       "      <td>1</td>\n",
       "      <td>2016</td>\n",
       "      <td>13</td>\n",
       "      <td>0</td>\n",
       "      <td>1</td>\n",
       "      <td>0</td>\n",
       "      <td>0</td>\n",
       "      <td>police_non_urgent</td>\n",
       "    </tr>\n",
       "    <tr>\n",
       "      <th>2</th>\n",
       "      <td>2</td>\n",
       "      <td>LARCENY/THEFT</td>\n",
       "      <td>GRAND THEFT FROM A BUILDING</td>\n",
       "      <td>Friday</td>\n",
       "      <td>BAYVIEW</td>\n",
       "      <td>NONE</td>\n",
       "      <td>-122.398745</td>\n",
       "      <td>37.730854</td>\n",
       "      <td>POINT (-122.3987447553861 37.73085402180737)</td>\n",
       "      <td>Silver Terrace</td>\n",
       "      <td>1</td>\n",
       "      <td>1</td>\n",
       "      <td>2016</td>\n",
       "      <td>0</td>\n",
       "      <td>0</td>\n",
       "      <td>0</td>\n",
       "      <td>0</td>\n",
       "      <td>1</td>\n",
       "      <td>police_non_urgent</td>\n",
       "    </tr>\n",
       "    <tr>\n",
       "      <th>3</th>\n",
       "      <td>3</td>\n",
       "      <td>EMBEZZLEMENT</td>\n",
       "      <td>EMBEZZLEMENT, GRAND THEFT</td>\n",
       "      <td>Friday</td>\n",
       "      <td>BAYVIEW</td>\n",
       "      <td>NONE</td>\n",
       "      <td>-122.388753</td>\n",
       "      <td>37.740736</td>\n",
       "      <td>POINT (-122.3887530469972 37.74073605483584)</td>\n",
       "      <td>Bayview</td>\n",
       "      <td>1</td>\n",
       "      <td>1</td>\n",
       "      <td>2016</td>\n",
       "      <td>12</td>\n",
       "      <td>0</td>\n",
       "      <td>1</td>\n",
       "      <td>0</td>\n",
       "      <td>0</td>\n",
       "      <td>other</td>\n",
       "    </tr>\n",
       "    <tr>\n",
       "      <th>4</th>\n",
       "      <td>4</td>\n",
       "      <td>NON-CRIMINAL</td>\n",
       "      <td>CASE CLOSURE</td>\n",
       "      <td>Friday</td>\n",
       "      <td>CENTRAL</td>\n",
       "      <td>UNFOUNDED</td>\n",
       "      <td>-122.420535</td>\n",
       "      <td>37.806189</td>\n",
       "      <td>POINT (-122.4205346782714 37.8061892244521)</td>\n",
       "      <td>Aquatic Park / Ft. Mason</td>\n",
       "      <td>1</td>\n",
       "      <td>1</td>\n",
       "      <td>2016</td>\n",
       "      <td>12</td>\n",
       "      <td>0</td>\n",
       "      <td>1</td>\n",
       "      <td>0</td>\n",
       "      <td>0</td>\n",
       "      <td>other</td>\n",
       "    </tr>\n",
       "  </tbody>\n",
       "</table>\n",
       "</div>"
      ],
      "text/plain": [
       "   Unnamed: 0       Category                               Descript DayOfWeek  \\\n",
       "0           0   EMBEZZLEMENT  EMBEZZLEMENT, GRAND THEFT BY EMPLOYEE    Friday   \n",
       "1           1  LARCENY/THEFT                PETTY THEFT OF PROPERTY    Friday   \n",
       "2           2  LARCENY/THEFT            GRAND THEFT FROM A BUILDING    Friday   \n",
       "3           3   EMBEZZLEMENT              EMBEZZLEMENT, GRAND THEFT    Friday   \n",
       "4           4   NON-CRIMINAL                           CASE CLOSURE    Friday   \n",
       "\n",
       "  PdDistrict Resolution           X          Y  \\\n",
       "0  INGLESIDE       NONE -122.450297  37.709552   \n",
       "1    CENTRAL       NONE -122.414167  37.808420   \n",
       "2    BAYVIEW       NONE -122.398745  37.730854   \n",
       "3    BAYVIEW       NONE -122.388753  37.740736   \n",
       "4    CENTRAL  UNFOUNDED -122.420535  37.806189   \n",
       "\n",
       "                                       geometry             neighbourhood  \\\n",
       "0  POINT (-122.4502971977728 37.70955194084215)            Crocker Amazon   \n",
       "1  POINT (-122.4141665150933 37.80841991727097)          Fishermans Wharf   \n",
       "2  POINT (-122.3987447553861 37.73085402180737)            Silver Terrace   \n",
       "3  POINT (-122.3887530469972 37.74073605483584)                   Bayview   \n",
       "4   POINT (-122.4205346782714 37.8061892244521)  Aquatic Park / Ft. Mason   \n",
       "\n",
       "   Month  Day  Year  Hour  Morning  Afternoon  Evening  Overnight  \\\n",
       "0      1    1  2016     0        0          0        0          1   \n",
       "1      1    1  2016    13        0          1        0          0   \n",
       "2      1    1  2016     0        0          0        0          1   \n",
       "3      1    1  2016    12        0          1        0          0   \n",
       "4      1    1  2016    12        0          1        0          0   \n",
       "\n",
       "              Target  \n",
       "0              other  \n",
       "1  police_non_urgent  \n",
       "2  police_non_urgent  \n",
       "3              other  \n",
       "4              other  "
      ]
     },
     "execution_count": 137,
     "metadata": {},
     "output_type": "execute_result"
    }
   ],
   "source": [
    "df.head()"
   ]
  },
  {
   "cell_type": "code",
   "execution_count": null,
   "metadata": {},
   "outputs": [],
   "source": []
  },
  {
   "cell_type": "code",
   "execution_count": null,
   "metadata": {},
   "outputs": [],
   "source": []
  },
  {
   "cell_type": "markdown",
   "metadata": {},
   "source": [
    "## Preprocessing"
   ]
  },
  {
   "cell_type": "markdown",
   "metadata": {},
   "source": [
    "##### Instantiating X, y"
   ]
  },
  {
   "cell_type": "code",
   "execution_count": 311,
   "metadata": {},
   "outputs": [],
   "source": [
    "drops = ['Category', 'Descript', 'Resolution', 'Morning', 'Afternoon', 'Evening',\n",
    "         'Overnight', 'Target', 'geometry', 'PdDistrict', 'X', 'Y']\n",
    "# drops = ['Category', 'Descript', 'Resolution', 'Target', 'geometry']\n",
    "\n",
    "X = df.drop(columns=drops)\n",
    "X = pd.get_dummies(data=X, drop_first=True)\n",
    "y = df['Target']\n",
    "\n",
    "# Label Enconding taken from user Luca Massaron's response to the question at the link below:\n",
    "# https://stackoverflow.com/questions/50201315/is-numerical-encoding-necessary-for-the-target-variable-in-classification\n",
    "label_encoder = LabelEncoder().fit(y)\n",
    "y = label_encoder.transform(y)\n",
    "\n",
    "rand_st = 1920"
   ]
  },
  {
   "cell_type": "markdown",
   "metadata": {},
   "source": [
    "#### Train/Test Split"
   ]
  },
  {
   "cell_type": "code",
   "execution_count": 312,
   "metadata": {},
   "outputs": [],
   "source": [
    "X_train, X_test, y_train, y_test = train_test_split(\n",
    "    X,\n",
    "    y,\n",
    "    test_size=0.3,\n",
    "    stratify=y,\n",
    "    random_state=rand_st\n",
    ")"
   ]
  },
  {
   "cell_type": "markdown",
   "metadata": {},
   "source": [
    "#### Scaling Features"
   ]
  },
  {
   "cell_type": "code",
   "execution_count": 313,
   "metadata": {},
   "outputs": [],
   "source": [
    "ss =StandardScaler()\n",
    "Z_train = ss.fit_transform(X_train)\n",
    "Z_test = ss.transform(X_test)"
   ]
  },
  {
   "cell_type": "markdown",
   "metadata": {},
   "source": [
    "#### Defining Function for Displaying Model Scores"
   ]
  },
  {
   "cell_type": "code",
   "execution_count": 314,
   "metadata": {},
   "outputs": [],
   "source": [
    "# Function to display model metrics\n",
    "def score_disp(X_train, X_test, y_train, y_test, gs):\n",
    "    best_score = gs.best_score_\n",
    "    train_score = gs.score(X_train, y_train)\n",
    "    test_score = gs.score(X_test, y_test)\n",
    "\n",
    "    print(f'best score: {best_score}')\n",
    "    print(f'train score: {train_score}')\n",
    "    print(f'test score: {test_score}')\n",
    "    print(f'best params: \\n{gs.best_params_}')"
   ]
  },
  {
   "cell_type": "markdown",
   "metadata": {},
   "source": [
    "## Modeling"
   ]
  },
  {
   "cell_type": "markdown",
   "metadata": {},
   "source": [
    "#### Baselines"
   ]
  },
  {
   "cell_type": "code",
   "execution_count": 315,
   "metadata": {},
   "outputs": [
    {
     "data": {
      "text/plain": [
       "police_non_urgent    0.630367\n",
       "other                0.218384\n",
       "police               0.151249\n",
       "Name: Target, dtype: float64"
      ]
     },
     "execution_count": 315,
     "metadata": {},
     "output_type": "execute_result"
    }
   ],
   "source": [
    "df['Target'].value_counts(normalize=True)"
   ]
  },
  {
   "cell_type": "code",
   "execution_count": 332,
   "metadata": {},
   "outputs": [
    {
     "name": "stdout",
     "output_type": "stream",
     "text": [
      "CPU times: user 17min, sys: 23.1 s, total: 17min 23s\n",
      "Wall time: 8min 58s\n"
     ]
    },
    {
     "data": {
      "text/html": [
       "<div>\n",
       "<style scoped>\n",
       "    .dataframe tbody tr th:only-of-type {\n",
       "        vertical-align: middle;\n",
       "    }\n",
       "\n",
       "    .dataframe tbody tr th {\n",
       "        vertical-align: top;\n",
       "    }\n",
       "\n",
       "    .dataframe thead th {\n",
       "        text-align: right;\n",
       "    }\n",
       "</style>\n",
       "<table border=\"1\" class=\"dataframe\">\n",
       "  <thead>\n",
       "    <tr style=\"text-align: right;\">\n",
       "      <th></th>\n",
       "      <th>model</th>\n",
       "      <th>train_score</th>\n",
       "      <th>test_score</th>\n",
       "    </tr>\n",
       "  </thead>\n",
       "  <tbody>\n",
       "    <tr>\n",
       "      <th>0</th>\n",
       "      <td>Logistic Regression</td>\n",
       "      <td>0.629067</td>\n",
       "      <td>0.629647</td>\n",
       "    </tr>\n",
       "    <tr>\n",
       "      <th>1</th>\n",
       "      <td>Bagging</td>\n",
       "      <td>0.876775</td>\n",
       "      <td>0.579172</td>\n",
       "    </tr>\n",
       "    <tr>\n",
       "      <th>2</th>\n",
       "      <td>Random Forest</td>\n",
       "      <td>0.887805</td>\n",
       "      <td>0.602405</td>\n",
       "    </tr>\n",
       "    <tr>\n",
       "      <th>3</th>\n",
       "      <td>AdaBoost</td>\n",
       "      <td>0.630463</td>\n",
       "      <td>0.630522</td>\n",
       "    </tr>\n",
       "    <tr>\n",
       "      <th>4</th>\n",
       "      <td>XGBoost</td>\n",
       "      <td>0.639110</td>\n",
       "      <td>0.632216</td>\n",
       "    </tr>\n",
       "  </tbody>\n",
       "</table>\n",
       "</div>"
      ],
      "text/plain": [
       "                 model  train_score  test_score\n",
       "0  Logistic Regression     0.629067    0.629647\n",
       "1              Bagging     0.876775    0.579172\n",
       "2        Random Forest     0.887805    0.602405\n",
       "3             AdaBoost     0.630463    0.630522\n",
       "4              XGBoost     0.639110    0.632216"
      ]
     },
     "execution_count": 332,
     "metadata": {},
     "output_type": "execute_result"
    }
   ],
   "source": [
    "%%time\n",
    "# Fitting on unscaled data\n",
    "lr = LogisticRegression(max_iter=1500)\n",
    "lr.fit(X_train, y_train)\n",
    "lr_train = lr.score(X_train, y_train)\n",
    "lr_test = lr.score(X_test, y_test)\n",
    "\n",
    "bag = BaggingClassifier()\n",
    "bag.fit(X_train, y_train)\n",
    "bag_train = bag.score(X_train, y_train)\n",
    "bag_test = bag.score(X_test, y_test)\n",
    "\n",
    "rf = RandomForestClassifier()\n",
    "rf.fit(X_train, y_train)\n",
    "rf_train = rf.score(X_train, y_train)\n",
    "rf_test = rf.score(X_test, y_test)\n",
    "\n",
    "ada = AdaBoostClassifier()\n",
    "ada.fit(X_train, y_train)\n",
    "ada_train = ada.score(X_train, y_train)\n",
    "ada_test = ada.score(X_test, y_test)\n",
    "\n",
    "xgb = XGBClassifier()\n",
    "xgb.fit(X_train, y_train)\n",
    "xgb_train = xgb.score(X_train, y_train)\n",
    "xgb_test = xgb.score(X_test, y_test)\n",
    "\n",
    "# sv_reg = SVR()\n",
    "# sv_reg.fit(X_train, y_train)\n",
    "\n",
    "# Fitting on scaled data (KNN only fit on scaled data)\n",
    "# knn = KNeighborsClassifier()\n",
    "# knn.fit(Z_train, y_train)\n",
    "# knn_train = knn.score(X_train, y_train)\n",
    "# knn_test = knn.score(X_test, y_test)\n",
    "\n",
    "model = ['Logistic Regression', 'Bagging', 'Random Forest', 'AdaBoost', 'XGBoost']\n",
    "train = [lr_train, bag_train, rf_train, ada_train, xgb_train]\n",
    "test = [lr_test, bag_test, rf_test, ada_test, xgb_test]\n",
    "results = pd.DataFrame({'model': model, 'train_score': train, 'test_score': test})\n",
    "results"
   ]
  },
  {
   "cell_type": "markdown",
   "metadata": {},
   "source": [
    "### Logistic Regression"
   ]
  },
  {
   "cell_type": "code",
   "execution_count": 316,
   "metadata": {},
   "outputs": [
    {
     "data": {
      "text/plain": [
       "LogisticRegression(max_iter=1500)"
      ]
     },
     "execution_count": 316,
     "metadata": {},
     "output_type": "execute_result"
    }
   ],
   "source": [
    "lr = LogisticRegression(max_iter=1500)\n",
    "lr.fit(X_train, y_train)"
   ]
  },
  {
   "cell_type": "markdown",
   "metadata": {},
   "source": [
    "### KNN"
   ]
  },
  {
   "cell_type": "code",
   "execution_count": null,
   "metadata": {},
   "outputs": [],
   "source": [
    "pgrid = {\n",
    "    'n_neighbors': [5, 15, 25],\n",
    "    'metric': ['manhattan', 'euclidean']\n",
    "}\n",
    "\n",
    "knn_gs = GridSearchCV(\n",
    "    KNeighborsClassifier(),\n",
    "    param_grid=pgrid,\n",
    "    cv=3,\n",
    "    verbose=2,\n",
    "    n_jobs=4\n",
    ")\n",
    "knn_gs.fit(Z_train, y_train)"
   ]
  },
  {
   "cell_type": "code",
   "execution_count": null,
   "metadata": {},
   "outputs": [],
   "source": [
    "score_disp(Z_train, Z_test, y_train, y_test, knn_gs)"
   ]
  },
  {
   "cell_type": "markdown",
   "metadata": {},
   "source": [
    "### Random Forest"
   ]
  },
  {
   "cell_type": "code",
   "execution_count": 320,
   "metadata": {},
   "outputs": [
    {
     "name": "stdout",
     "output_type": "stream",
     "text": [
      "Fitting 3 folds for each of 1 candidates, totalling 3 fits\n"
     ]
    },
    {
     "name": "stderr",
     "output_type": "stream",
     "text": [
      "[Parallel(n_jobs=4)]: Using backend LokyBackend with 4 concurrent workers.\n",
      "[Parallel(n_jobs=4)]: Done   3 out of   3 | elapsed:    9.9s finished\n"
     ]
    },
    {
     "data": {
      "text/plain": [
       "GridSearchCV(cv=3, estimator=RandomForestClassifier(), n_jobs=4,\n",
       "             param_grid={'max_depth': [1], 'max_leaf_nodes': [2],\n",
       "                         'min_samples_split': [5], 'n_estimators': [120]},\n",
       "             verbose=2)"
      ]
     },
     "execution_count": 320,
     "metadata": {},
     "output_type": "execute_result"
    }
   ],
   "source": [
    "rf = RandomForestClassifier()\n",
    "\n",
    "pgrid = {\n",
    "    'n_estimators' : [120],\n",
    "    'min_samples_split' : [5],\n",
    "#     'max_features' : ['sqrt', 'log2'],\n",
    "#     'oob_score' : [True, False],\n",
    "    'max_depth' : [1],\n",
    "    'max_leaf_nodes': [2]\n",
    "}\n",
    "\n",
    "# pgrid = {\n",
    "#     'n_estimators' : [50,60,70,80,90,100],\n",
    "#     'min_samples_split' : [1,2,3,4,5],\n",
    "#     'max_features' : ['sqrt', 'log2'],\n",
    "#     'oob_score' : [True, False],\n",
    "#     'max_depth' : [None, 2,3,4,5,6,7,8,9,10],\n",
    "#     'max_leaf_nodes': range(2, 20, 2)\n",
    "#     'n_jobs' :[4]\n",
    "# }\n",
    "\n",
    "rf_gs = GridSearchCV(rf, param_grid=pgrid, cv=3, verbose = 2, n_jobs=4)\n",
    "rf_gs.fit(X_train,y_train)"
   ]
  },
  {
   "cell_type": "code",
   "execution_count": 321,
   "metadata": {},
   "outputs": [
    {
     "name": "stdout",
     "output_type": "stream",
     "text": [
      "best score: 0.6303677196279683\n",
      "train score: 0.6303677196446199\n",
      "test score: 0.6303666544854545\n",
      "best params: \n",
      "{'max_depth': 1, 'max_leaf_nodes': 2, 'min_samples_split': 5, 'n_estimators': 120}\n"
     ]
    }
   ],
   "source": [
    "score_disp(X_train, X_test, y_train, y_test, rf_gs)"
   ]
  },
  {
   "cell_type": "code",
   "execution_count": 322,
   "metadata": {},
   "outputs": [],
   "source": [
    "preds = rf_gs.predict(X_test)\n",
    "pred_df = pd.DataFrame({'preds': preds, 'true': y_test})\n",
    "pred_df['true'] = label_encoder.inverse_transform(pred_df['true'])\n",
    "pred_df['preds'] = label_encoder.inverse_transform(pred_df['preds'])\n",
    "pred_df[pred_df['preds'] != pred_df['true']].head(15)"
   ]
  },
  {
   "cell_type": "markdown",
   "metadata": {},
   "source": [
    "### AdaBoost"
   ]
  },
  {
   "cell_type": "code",
   "execution_count": null,
   "metadata": {},
   "outputs": [],
   "source": [
    "ada = AdaBoostClassifier()\n",
    "pgrid = {\n",
    "    'n_estimators' : [90, 100, 120],\n",
    "    'max_depth' : [4, 5, 6],\n",
    "}\n",
    "\n",
    "ada_gs = GridSearchCV(ada, param_grid=pgrid, cv=3, verbose = 2, n_jobs=4)\n",
    "ada_gs.fit(X_train,y_train)"
   ]
  },
  {
   "cell_type": "code",
   "execution_count": null,
   "metadata": {},
   "outputs": [],
   "source": [
    "score_disp(X_train, X_test, y_train, y_test, ada_gs)"
   ]
  },
  {
   "cell_type": "markdown",
   "metadata": {},
   "source": [
    "### XGBoost"
   ]
  },
  {
   "cell_type": "code",
   "execution_count": 231,
   "metadata": {},
   "outputs": [],
   "source": [
    "xgb = XGBClassifier()\n",
    "pgrid = {\n",
    "    'n_estimators' : [90, 100, 120],\n",
    "    'max_depth' : [4, 5, 6],\n",
    "    \"learning_rate\"    : [0.2, 0.3, 0.4],\n",
    "    \"min_child_weight\" : [ 1, 3, 5],\n",
    "    \"gamma\"            : [  0, 0.1],\n",
    "\n",
    "}\n",
    "\n",
    "\n",
    "xgb_gs = GridSearchCV(xgb, param_grid=pgrid, cv=3, verbose = 2, n_jobs=4)\n",
    "xgb_gs.fit(X_train,y_train)"
   ]
  },
  {
   "cell_type": "code",
   "execution_count": null,
   "metadata": {},
   "outputs": [],
   "source": [
    "score_disp(X_train, X_test, y_train, y_test, xgb_gs)"
   ]
  },
  {
   "cell_type": "code",
   "execution_count": 232,
   "metadata": {},
   "outputs": [
    {
     "data": {
      "text/plain": [
       "XGBClassifier(base_score=0.5, booster='gbtree', colsample_bylevel=1,\n",
       "              colsample_bynode=1, colsample_bytree=1, gamma=0, gpu_id=-1,\n",
       "              importance_type='gain', interaction_constraints='',\n",
       "              learning_rate=0.300000012, max_delta_step=0, max_depth=6,\n",
       "              min_child_weight=1, missing=nan, monotone_constraints='()',\n",
       "              n_estimators=100, n_jobs=0, num_parallel_tree=1,\n",
       "              objective='multi:softprob', random_state=0, reg_alpha=0,\n",
       "              reg_lambda=1, scale_pos_weight=None, subsample=1,\n",
       "              tree_method='exact', validate_parameters=1, verbosity=None)"
      ]
     },
     "execution_count": 232,
     "metadata": {},
     "output_type": "execute_result"
    }
   ],
   "source": [
    "xgb_gs.fit(X_train, y_train)"
   ]
  },
  {
   "cell_type": "markdown",
   "metadata": {},
   "source": [
    "### Bagging"
   ]
  },
  {
   "cell_type": "code",
   "execution_count": null,
   "metadata": {},
   "outputs": [],
   "source": [
    "# Inspirtation for below hyperparameters taken from link below:\n",
    "# https://stackoverflow.com/questions/62132471/assigning-best-grid-searched-hyperparameters-into-final-model-in-python-bagging\n",
    "bag = BaggingClassifer()\n",
    "pgrid = {\n",
    "    'n_estimators': [90, 100, 120],\n",
    "    'max_samples': [0.05, 0.1, 0.2, 0.5],\n",
    "    'max_features': [0.5,0.7,0.9]\n",
    "}\n",
    "\n",
    "bag_gs = GridSearchCV(bag, param_grid=pgrid, verbose=2, n_jobs=4)"
   ]
  },
  {
   "cell_type": "code",
   "execution_count": null,
   "metadata": {},
   "outputs": [],
   "source": [
    "score_disp(X_train, X_test, y_train, y_test, bag_gs)"
   ]
  },
  {
   "cell_type": "markdown",
   "metadata": {},
   "source": [
    "### Nueral Network"
   ]
  },
  {
   "cell_type": "code",
   "execution_count": 338,
   "metadata": {},
   "outputs": [],
   "source": [
    "from sklearn.preprocessing import LabelEncoder, OneHotEncoder, StandardScaler\n",
    "from tensorflow.keras.optimizers import Adam, SGD\n",
    "from tensorflow.keras.models import Sequential, save_model, load_model\n",
    "from tensorflow.keras.layers import Dense, Dropout\n",
    "from tensorflow.keras.utils import to_categorical, get_file\n",
    "from tensorflow.random import set_seed\n",
    "from tensorflow.keras.utils import plot_model\n",
    "from tensorflow.keras.callbacks import EarlyStopping\n",
    "from tensorflow.math import confusion_matrix as tf_confusion_matrix\n",
    "from sklearn.metrics import confusion_matrix as skl_confusion_matrix\n",
    "from sklearn.metrics import plot_confusion_matrix, f1_score, precision_score, recall_score, accuracy_score\n",
    "from sklearn.linear_model import LogisticRegression\n",
    "from sklearn.ensemble import GradientBoostingClassifier"
   ]
  },
  {
   "cell_type": "code",
   "execution_count": 339,
   "metadata": {},
   "outputs": [],
   "source": [
    "y = to_categorical(y)"
   ]
  },
  {
   "cell_type": "code",
   "execution_count": 340,
   "metadata": {},
   "outputs": [
    {
     "data": {
      "text/plain": [
       "array([[1., 0., 0.],\n",
       "       [0., 0., 1.],\n",
       "       [0., 0., 1.],\n",
       "       ...,\n",
       "       [1., 0., 0.],\n",
       "       [0., 1., 0.],\n",
       "       [0., 0., 1.]], dtype=float32)"
      ]
     },
     "execution_count": 340,
     "metadata": {},
     "output_type": "execute_result"
    }
   ],
   "source": [
    "y"
   ]
  },
  {
   "cell_type": "code",
   "execution_count": 343,
   "metadata": {},
   "outputs": [],
   "source": [
    "nn = Sequential()\n",
    "nn.add(Dense(64, input_shape=(Z_train.shape[1],), activation='relu'))\n",
    "nn.add(Dropout(0.25))\n",
    "nn.add(Dense(32, activation='relu'))\n",
    "nn.add(Dropout(0.25))\n",
    "nn.add(Dense(1, activation='softmax'))"
   ]
  },
  {
   "cell_type": "code",
   "execution_count": 344,
   "metadata": {},
   "outputs": [],
   "source": [
    "nn.compile(loss='bce', optimizer='adam', metrics=['acc'])"
   ]
  },
  {
   "cell_type": "code",
   "execution_count": 347,
   "metadata": {},
   "outputs": [
    {
     "name": "stdout",
     "output_type": "stream",
     "text": [
      "Epoch 1/10\n",
      "3293/3293 [==============================] - 4s 1ms/step - loss: -6.2826 - acc: 0.1513 - val_loss: -6.2824 - val_acc: 0.1512\n",
      "Epoch 2/10\n",
      "3293/3293 [==============================] - 5s 2ms/step - loss: -6.2826 - acc: 0.1513 - val_loss: -6.2824 - val_acc: 0.1512\n",
      "Epoch 3/10\n",
      "3293/3293 [==============================] - 5s 2ms/step - loss: -6.2826 - acc: 0.1513 - val_loss: -6.2824 - val_acc: 0.1512\n",
      "Epoch 4/10\n",
      "3293/3293 [==============================] - 5s 1ms/step - loss: -6.2826 - acc: 0.1513 - val_loss: -6.2824 - val_acc: 0.1512\n",
      "Epoch 5/10\n",
      "3293/3293 [==============================] - 6s 2ms/step - loss: -6.2826 - acc: 0.1513 - val_loss: -6.2824 - val_acc: 0.1512\n",
      "Epoch 6/10\n",
      "3293/3293 [==============================] - 5s 2ms/step - loss: -6.2826 - acc: 0.1513 - val_loss: -6.2824 - val_acc: 0.1512\n",
      "Epoch 7/10\n",
      "3293/3293 [==============================] - 5s 2ms/step - loss: -6.2826 - acc: 0.1513 - val_loss: -6.2824 - val_acc: 0.1512\n",
      "Epoch 8/10\n",
      "3293/3293 [==============================] - 6s 2ms/step - loss: -6.2826 - acc: 0.1513 - val_loss: -6.2824 - val_acc: 0.1512\n",
      "Epoch 9/10\n",
      "3293/3293 [==============================] - 5s 1ms/step - loss: -6.2826 - acc: 0.1513 - val_loss: -6.2824 - val_acc: 0.1512\n",
      "Epoch 10/10\n",
      "3293/3293 [==============================] - 4s 1ms/step - loss: -6.2826 - acc: 0.1513 - val_loss: -6.2824 - val_acc: 0.1512\n"
     ]
    }
   ],
   "source": [
    "results = nn.fit(\n",
    "    Z_train,\n",
    "    y_train,\n",
    "    validation_data=(Z_test, y_test),\n",
    "    epochs=10,\n",
    "    batch_size=64,\n",
    "    verbose=1,\n",
    ")"
   ]
  },
  {
   "cell_type": "code",
   "execution_count": null,
   "metadata": {},
   "outputs": [],
   "source": [
    "train_acc = results.history['acc']\n",
    "test_acc = results.history['val_acc']\n",
    "plt.figure(figsize=(8, 6))\n",
    "plt.plot(train_acc, label='Training Accuracy', color='red')\n",
    "plt.plot(test_acc, label='Testing Accuracy', color='blue')\n",
    "plt.legend();"
   ]
  },
  {
   "cell_type": "code",
   "execution_count": null,
   "metadata": {},
   "outputs": [],
   "source": []
  }
 ],
 "metadata": {
  "kernelspec": {
   "display_name": "Python 3",
   "language": "python",
   "name": "python3"
  },
  "language_info": {
   "codemirror_mode": {
    "name": "ipython",
    "version": 3
   },
   "file_extension": ".py",
   "mimetype": "text/x-python",
   "name": "python",
   "nbconvert_exporter": "python",
   "pygments_lexer": "ipython3",
   "version": "3.8.3"
  }
 },
 "nbformat": 4,
 "nbformat_minor": 4
}
